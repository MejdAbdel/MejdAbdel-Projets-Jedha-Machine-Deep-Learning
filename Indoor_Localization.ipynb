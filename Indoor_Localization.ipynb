{
 "cells": [
  {
   "cell_type": "markdown",
   "metadata": {},
   "source": [
    "#  Project - Indoor Localization using Wi-Fi Fingerprinting"
   ]
  },
  {
   "cell_type": "markdown",
   "metadata": {},
   "source": [
    "### UJIINDOORLOC WLAN MAIN CHARACTERISTICS"
   ]
  },
  {
   "cell_type": "markdown",
   "metadata": {},
   "source": [
    "- Covers a surface of 108,703m2 – 3 buildings with 4 or 5 floors. \n",
    "- 933 different places (reference points) appeared in the database. \n",
    "- 19,938 sample points were obtained for training/learning and 1,111 were obtained for validation/testing – 21,049 in total. \n",
    "- Testing samples were taken 4 months after the training samples to ensure dataset independence. \n",
    "- 520 different WAPs (Wireless Access Points) appeared in the database. \n",
    "- Data collected by more than 20 users with 25 different mobile device models."
   ]
  },
  {
   "cell_type": "markdown",
   "metadata": {},
   "source": [
    "### import library"
   ]
  },
  {
   "cell_type": "code",
   "execution_count": 1,
   "metadata": {},
   "outputs": [],
   "source": [
    "import numpy as np # linear algebra\n",
    "import pandas as pd # data processing, CSV file I/O (e.g. pd.read_csv)\n",
    "\n",
    "# visualization\n",
    "import seaborn as sns\n",
    "import matplotlib.pyplot as plt\n",
    "%matplotlib inline\n",
    "import warnings\n",
    "warnings.filterwarnings('ignore')\n",
    "\n",
    "from sklearn.preprocessing import StandardScaler # normalisation\n",
    "from sklearn.model_selection import train_test_split # split\n",
    "\n",
    "from sklearn import svm\n",
    "\n",
    "import time as time \n",
    "import pickle as pickle\n",
    "import glob as glob\n",
    "\n",
    "# Modelling\n",
    "from sklearn.linear_model import LogisticRegression, LinearRegression, Lasso, Ridge, ElasticNet\n",
    "from sklearn.tree import DecisionTreeClassifier\n",
    "from sklearn.ensemble import RandomForestClassifier, RandomForestRegressor, GradientBoostingRegressor\n",
    "from sklearn.neighbors import KNeighborsClassifier, KNeighborsRegressor\n",
    "from sklearn.discriminant_analysis import LinearDiscriminantAnalysis\n",
    "from sklearn.neural_network import MLPClassifier\n",
    "from sklearn.multioutput import MultiOutputRegressor\n",
    "from xgboost import XGBClassifier, XGBRegressor\n",
    "#from catboost import CatBoostClassifier, CatBoostRegressor\n",
    "\n",
    "from scipy.stats import randint as sp_randint, uniform as sp_uniform\n",
    "\n",
    "from sklearn.model_selection import KFold, cross_val_score, RandomizedSearchCV, GridSearchCV\n",
    "from sklearn.metrics import confusion_matrix, accuracy_score, r2_score, mean_squared_error\n",
    "\n",
    "from joblib import dump, load\n",
    "from sklearn.decomposition import PCA"
   ]
  },
  {
   "cell_type": "markdown",
   "metadata": {},
   "source": [
    "### Functions used"
   ]
  },
  {
   "cell_type": "code",
   "execution_count": 2,
   "metadata": {},
   "outputs": [],
   "source": [
    "#--- save data ---#\n",
    "def save_data(dataframe, filename):\n",
    "    file_present = glob.glob(filename) # boolean, file already present?\n",
    "    if not file_present:\n",
    "        dataframe.to_csv(filename)\n",
    "    else:\n",
    "        print('WARNING: This file already exists.')\n",
    "        \n",
    "def saveList(myList,filename):\n",
    "    file_present = glob.glob(filename) # boolean, file already present?\n",
    "    if not file_present:     \n",
    "        np.save(filename,myList) # the filename should mention the extension 'npy'\n",
    "        print(\"Saved successfully!\")\n",
    "    else:\n",
    "        print('WARNING: This file already exists.')\n",
    "    \n",
    "def loadList(filename):\n",
    "    file_present = glob.glob(filename) # boolean, file already present?\n",
    "    if not file_present:\n",
    "        print('WARNING: This file dose not exists.')\n",
    "    else:\n",
    "        tempNumpyArray=np.load(filename)# the filename should mention the extension 'npy'\n",
    "    return tempNumpyArray.tolist()\n",
    "\n",
    "#--- save best model ---#\n",
    "def save_model(model, model_name):\n",
    "    model_name_present = glob.glob(model_name) # boolean\n",
    "    if not model_name_present:\n",
    "        pickle.dump(grid_result, open(model_name, 'wb'))\n",
    "    else:\n",
    "        print('WARNING: This file already exists.')"
   ]
  },
  {
   "cell_type": "markdown",
   "metadata": {},
   "source": [
    "### Data Analysis"
   ]
  },
  {
   "cell_type": "code",
   "execution_count": 3,
   "metadata": {},
   "outputs": [],
   "source": [
    "# training/validation set\n",
    "train_set = pd.read_csv(\"UJIndoorLoc/trainingData.csv\")\n",
    "\n",
    "# test set\n",
    "test_set  = pd.read_csv(\"UJIndoorLoc/validationData.csv\")"
   ]
  },
  {
   "cell_type": "markdown",
   "metadata": {},
   "source": [
    "#### Evaluate Data (training/validation) "
   ]
  },
  {
   "cell_type": "code",
   "execution_count": 4,
   "metadata": {},
   "outputs": [
    {
     "name": "stdout",
     "output_type": "stream",
     "text": [
      "-- shape of train_set is : (19937, 529)\n",
      "-- shape of test_set is  : (1111, 529)\n"
     ]
    }
   ],
   "source": [
    "print(\"-- shape of train_set is : {}\".format(train_set.shape))\n",
    "print(\"-- shape of test_set is  : {}\".format(test_set.shape))"
   ]
  },
  {
   "cell_type": "code",
   "execution_count": 5,
   "metadata": {},
   "outputs": [
    {
     "data": {
      "text/html": [
       "<div>\n",
       "<style scoped>\n",
       "    .dataframe tbody tr th:only-of-type {\n",
       "        vertical-align: middle;\n",
       "    }\n",
       "\n",
       "    .dataframe tbody tr th {\n",
       "        vertical-align: top;\n",
       "    }\n",
       "\n",
       "    .dataframe thead th {\n",
       "        text-align: right;\n",
       "    }\n",
       "</style>\n",
       "<table border=\"1\" class=\"dataframe\">\n",
       "  <thead>\n",
       "    <tr style=\"text-align: right;\">\n",
       "      <th></th>\n",
       "      <th>WAP001</th>\n",
       "      <th>WAP002</th>\n",
       "      <th>WAP003</th>\n",
       "      <th>WAP004</th>\n",
       "      <th>WAP005</th>\n",
       "      <th>WAP006</th>\n",
       "      <th>WAP007</th>\n",
       "      <th>WAP008</th>\n",
       "      <th>WAP009</th>\n",
       "      <th>WAP010</th>\n",
       "      <th>...</th>\n",
       "      <th>WAP520</th>\n",
       "      <th>LONGITUDE</th>\n",
       "      <th>LATITUDE</th>\n",
       "      <th>FLOOR</th>\n",
       "      <th>BUILDINGID</th>\n",
       "      <th>SPACEID</th>\n",
       "      <th>RELATIVEPOSITION</th>\n",
       "      <th>USERID</th>\n",
       "      <th>PHONEID</th>\n",
       "      <th>TIMESTAMP</th>\n",
       "    </tr>\n",
       "  </thead>\n",
       "  <tbody>\n",
       "    <tr>\n",
       "      <th>0</th>\n",
       "      <td>100</td>\n",
       "      <td>100</td>\n",
       "      <td>100</td>\n",
       "      <td>100</td>\n",
       "      <td>100</td>\n",
       "      <td>100</td>\n",
       "      <td>100</td>\n",
       "      <td>100</td>\n",
       "      <td>100</td>\n",
       "      <td>100</td>\n",
       "      <td>...</td>\n",
       "      <td>100</td>\n",
       "      <td>-7541.2643</td>\n",
       "      <td>4.864921e+06</td>\n",
       "      <td>2</td>\n",
       "      <td>1</td>\n",
       "      <td>106</td>\n",
       "      <td>2</td>\n",
       "      <td>2</td>\n",
       "      <td>23</td>\n",
       "      <td>1371713733</td>\n",
       "    </tr>\n",
       "    <tr>\n",
       "      <th>1</th>\n",
       "      <td>100</td>\n",
       "      <td>100</td>\n",
       "      <td>100</td>\n",
       "      <td>100</td>\n",
       "      <td>100</td>\n",
       "      <td>100</td>\n",
       "      <td>100</td>\n",
       "      <td>100</td>\n",
       "      <td>100</td>\n",
       "      <td>100</td>\n",
       "      <td>...</td>\n",
       "      <td>100</td>\n",
       "      <td>-7536.6212</td>\n",
       "      <td>4.864934e+06</td>\n",
       "      <td>2</td>\n",
       "      <td>1</td>\n",
       "      <td>106</td>\n",
       "      <td>2</td>\n",
       "      <td>2</td>\n",
       "      <td>23</td>\n",
       "      <td>1371713691</td>\n",
       "    </tr>\n",
       "    <tr>\n",
       "      <th>2</th>\n",
       "      <td>100</td>\n",
       "      <td>100</td>\n",
       "      <td>100</td>\n",
       "      <td>100</td>\n",
       "      <td>100</td>\n",
       "      <td>100</td>\n",
       "      <td>100</td>\n",
       "      <td>-97</td>\n",
       "      <td>100</td>\n",
       "      <td>100</td>\n",
       "      <td>...</td>\n",
       "      <td>100</td>\n",
       "      <td>-7519.1524</td>\n",
       "      <td>4.864950e+06</td>\n",
       "      <td>2</td>\n",
       "      <td>1</td>\n",
       "      <td>103</td>\n",
       "      <td>2</td>\n",
       "      <td>2</td>\n",
       "      <td>23</td>\n",
       "      <td>1371714095</td>\n",
       "    </tr>\n",
       "    <tr>\n",
       "      <th>3</th>\n",
       "      <td>100</td>\n",
       "      <td>100</td>\n",
       "      <td>100</td>\n",
       "      <td>100</td>\n",
       "      <td>100</td>\n",
       "      <td>100</td>\n",
       "      <td>100</td>\n",
       "      <td>100</td>\n",
       "      <td>100</td>\n",
       "      <td>100</td>\n",
       "      <td>...</td>\n",
       "      <td>100</td>\n",
       "      <td>-7524.5704</td>\n",
       "      <td>4.864934e+06</td>\n",
       "      <td>2</td>\n",
       "      <td>1</td>\n",
       "      <td>102</td>\n",
       "      <td>2</td>\n",
       "      <td>2</td>\n",
       "      <td>23</td>\n",
       "      <td>1371713807</td>\n",
       "    </tr>\n",
       "    <tr>\n",
       "      <th>4</th>\n",
       "      <td>100</td>\n",
       "      <td>100</td>\n",
       "      <td>100</td>\n",
       "      <td>100</td>\n",
       "      <td>100</td>\n",
       "      <td>100</td>\n",
       "      <td>100</td>\n",
       "      <td>100</td>\n",
       "      <td>100</td>\n",
       "      <td>100</td>\n",
       "      <td>...</td>\n",
       "      <td>100</td>\n",
       "      <td>-7632.1436</td>\n",
       "      <td>4.864982e+06</td>\n",
       "      <td>0</td>\n",
       "      <td>0</td>\n",
       "      <td>122</td>\n",
       "      <td>2</td>\n",
       "      <td>11</td>\n",
       "      <td>13</td>\n",
       "      <td>1369909710</td>\n",
       "    </tr>\n",
       "  </tbody>\n",
       "</table>\n",
       "<p>5 rows × 529 columns</p>\n",
       "</div>"
      ],
      "text/plain": [
       "   WAP001  WAP002  WAP003  WAP004  WAP005  WAP006  WAP007  WAP008  WAP009  \\\n",
       "0     100     100     100     100     100     100     100     100     100   \n",
       "1     100     100     100     100     100     100     100     100     100   \n",
       "2     100     100     100     100     100     100     100     -97     100   \n",
       "3     100     100     100     100     100     100     100     100     100   \n",
       "4     100     100     100     100     100     100     100     100     100   \n",
       "\n",
       "   WAP010  ...  WAP520  LONGITUDE      LATITUDE  FLOOR  BUILDINGID  SPACEID  \\\n",
       "0     100  ...     100 -7541.2643  4.864921e+06      2           1      106   \n",
       "1     100  ...     100 -7536.6212  4.864934e+06      2           1      106   \n",
       "2     100  ...     100 -7519.1524  4.864950e+06      2           1      103   \n",
       "3     100  ...     100 -7524.5704  4.864934e+06      2           1      102   \n",
       "4     100  ...     100 -7632.1436  4.864982e+06      0           0      122   \n",
       "\n",
       "   RELATIVEPOSITION  USERID  PHONEID   TIMESTAMP  \n",
       "0                 2       2       23  1371713733  \n",
       "1                 2       2       23  1371713691  \n",
       "2                 2       2       23  1371714095  \n",
       "3                 2       2       23  1371713807  \n",
       "4                 2      11       13  1369909710  \n",
       "\n",
       "[5 rows x 529 columns]"
      ]
     },
     "execution_count": 5,
     "metadata": {},
     "output_type": "execute_result"
    }
   ],
   "source": [
    "train_set.head(5)"
   ]
  },
  {
   "cell_type": "code",
   "execution_count": 6,
   "metadata": {},
   "outputs": [
    {
     "data": {
      "text/plain": [
       "array(['WAP501', 'WAP502', 'WAP503', 'WAP504', 'WAP505', 'WAP506',\n",
       "       'WAP507', 'WAP508', 'WAP509', 'WAP510', 'WAP511', 'WAP512',\n",
       "       'WAP513', 'WAP514', 'WAP515', 'WAP516', 'WAP517', 'WAP518',\n",
       "       'WAP519', 'WAP520', 'LONGITUDE', 'LATITUDE', 'FLOOR', 'BUILDINGID',\n",
       "       'SPACEID', 'RELATIVEPOSITION', 'USERID', 'PHONEID', 'TIMESTAMP'],\n",
       "      dtype=object)"
      ]
     },
     "execution_count": 6,
     "metadata": {},
     "output_type": "execute_result"
    }
   ],
   "source": [
    "train_set.columns.values[500:]"
   ]
  },
  {
   "cell_type": "code",
   "execution_count": 7,
   "metadata": {},
   "outputs": [
    {
     "name": "stdout",
     "output_type": "stream",
     "text": [
      "-----------train_set------------\n",
      "<class 'pandas.core.frame.DataFrame'>\n",
      "RangeIndex: 19937 entries, 0 to 19936\n",
      "Columns: 529 entries, WAP001 to TIMESTAMP\n",
      "dtypes: float64(2), int64(527)\n",
      "memory usage: 80.5 MB\n",
      "-----------test_set------------\n",
      "<class 'pandas.core.frame.DataFrame'>\n",
      "RangeIndex: 1111 entries, 0 to 1110\n",
      "Columns: 529 entries, WAP001 to TIMESTAMP\n",
      "dtypes: float64(2), int64(527)\n",
      "memory usage: 4.5 MB\n"
     ]
    }
   ],
   "source": [
    "print(\"-----------train_set------------\")\n",
    "train_set.info()\n",
    "print(\"-----------test_set------------\")\n",
    "test_set.info()"
   ]
  },
  {
   "cell_type": "markdown",
   "metadata": {},
   "source": [
    "#### Variables"
   ]
  },
  {
   "cell_type": "markdown",
   "metadata": {},
   "source": [
    "- there are three buildings 0, 1, and 2\n",
    "- 4 floors for building 0\n",
    "- 4 floors for building 1\n",
    "- 5 floors for building 2"
   ]
  },
  {
   "cell_type": "code",
   "execution_count": 8,
   "metadata": {},
   "outputs": [],
   "source": [
    "#Viewing data sample (non-WAP columns)\n",
    "train_set_without_inputs = train_set[[x for x in train_set.columns if 'WAP' not in x]]\n",
    "#Viewing data sample (with-WAP columns)\n",
    "train_set_with_inputs    = train_set[[x for x in train_set.columns if 'WAP' in x]]\n",
    "\n",
    "num_building = train_set['BUILDINGID'].unique() # there are three building 0, 1, and 2\n",
    "num_floor_buildingZero = train_set.loc[train_set[\"BUILDINGID\"] == 0][\"FLOOR\"].unique() #building 0 has 4 floors\n",
    "num_floor_buildingOne  = train_set.loc[train_set[\"BUILDINGID\"] == 1][\"FLOOR\"].unique() #building 1 has 4 floors\n",
    "num_floor_buildingTwo  = train_set.loc[train_set[\"BUILDINGID\"] == 2][\"FLOOR\"].unique() #building 2 has 5 floors"
   ]
  },
  {
   "cell_type": "markdown",
   "metadata": {},
   "source": [
    "#### Statistical summary"
   ]
  },
  {
   "cell_type": "code",
   "execution_count": 9,
   "metadata": {},
   "outputs": [
    {
     "data": {
      "text/html": [
       "<div>\n",
       "<style scoped>\n",
       "    .dataframe tbody tr th:only-of-type {\n",
       "        vertical-align: middle;\n",
       "    }\n",
       "\n",
       "    .dataframe tbody tr th {\n",
       "        vertical-align: top;\n",
       "    }\n",
       "\n",
       "    .dataframe thead th {\n",
       "        text-align: right;\n",
       "    }\n",
       "</style>\n",
       "<table border=\"1\" class=\"dataframe\">\n",
       "  <thead>\n",
       "    <tr style=\"text-align: right;\">\n",
       "      <th></th>\n",
       "      <th>LONGITUDE</th>\n",
       "      <th>LATITUDE</th>\n",
       "      <th>FLOOR</th>\n",
       "      <th>BUILDINGID</th>\n",
       "      <th>SPACEID</th>\n",
       "      <th>RELATIVEPOSITION</th>\n",
       "      <th>USERID</th>\n",
       "      <th>PHONEID</th>\n",
       "      <th>TIMESTAMP</th>\n",
       "    </tr>\n",
       "  </thead>\n",
       "  <tbody>\n",
       "    <tr>\n",
       "      <th>count</th>\n",
       "      <td>19937.000000</td>\n",
       "      <td>1.993700e+04</td>\n",
       "      <td>19937.000000</td>\n",
       "      <td>19937.000000</td>\n",
       "      <td>19937.000000</td>\n",
       "      <td>19937.000000</td>\n",
       "      <td>19937.000000</td>\n",
       "      <td>19937.000000</td>\n",
       "      <td>1.993700e+04</td>\n",
       "    </tr>\n",
       "    <tr>\n",
       "      <th>mean</th>\n",
       "      <td>-7464.275947</td>\n",
       "      <td>4.864871e+06</td>\n",
       "      <td>1.674575</td>\n",
       "      <td>1.212820</td>\n",
       "      <td>148.429954</td>\n",
       "      <td>1.833024</td>\n",
       "      <td>9.068014</td>\n",
       "      <td>13.021869</td>\n",
       "      <td>1.371421e+09</td>\n",
       "    </tr>\n",
       "    <tr>\n",
       "      <th>std</th>\n",
       "      <td>123.402010</td>\n",
       "      <td>6.693318e+01</td>\n",
       "      <td>1.223078</td>\n",
       "      <td>0.833139</td>\n",
       "      <td>58.342106</td>\n",
       "      <td>0.372964</td>\n",
       "      <td>4.988720</td>\n",
       "      <td>5.362410</td>\n",
       "      <td>5.572054e+05</td>\n",
       "    </tr>\n",
       "    <tr>\n",
       "      <th>min</th>\n",
       "      <td>-7691.338400</td>\n",
       "      <td>4.864746e+06</td>\n",
       "      <td>0.000000</td>\n",
       "      <td>0.000000</td>\n",
       "      <td>1.000000</td>\n",
       "      <td>1.000000</td>\n",
       "      <td>1.000000</td>\n",
       "      <td>1.000000</td>\n",
       "      <td>1.369909e+09</td>\n",
       "    </tr>\n",
       "    <tr>\n",
       "      <th>25%</th>\n",
       "      <td>-7594.737000</td>\n",
       "      <td>4.864821e+06</td>\n",
       "      <td>1.000000</td>\n",
       "      <td>0.000000</td>\n",
       "      <td>110.000000</td>\n",
       "      <td>2.000000</td>\n",
       "      <td>5.000000</td>\n",
       "      <td>8.000000</td>\n",
       "      <td>1.371056e+09</td>\n",
       "    </tr>\n",
       "    <tr>\n",
       "      <th>50%</th>\n",
       "      <td>-7423.060900</td>\n",
       "      <td>4.864852e+06</td>\n",
       "      <td>2.000000</td>\n",
       "      <td>1.000000</td>\n",
       "      <td>129.000000</td>\n",
       "      <td>2.000000</td>\n",
       "      <td>11.000000</td>\n",
       "      <td>13.000000</td>\n",
       "      <td>1.371716e+09</td>\n",
       "    </tr>\n",
       "    <tr>\n",
       "      <th>75%</th>\n",
       "      <td>-7359.193000</td>\n",
       "      <td>4.864930e+06</td>\n",
       "      <td>3.000000</td>\n",
       "      <td>2.000000</td>\n",
       "      <td>207.000000</td>\n",
       "      <td>2.000000</td>\n",
       "      <td>13.000000</td>\n",
       "      <td>14.000000</td>\n",
       "      <td>1.371721e+09</td>\n",
       "    </tr>\n",
       "    <tr>\n",
       "      <th>max</th>\n",
       "      <td>-7300.818990</td>\n",
       "      <td>4.865017e+06</td>\n",
       "      <td>4.000000</td>\n",
       "      <td>2.000000</td>\n",
       "      <td>254.000000</td>\n",
       "      <td>2.000000</td>\n",
       "      <td>18.000000</td>\n",
       "      <td>24.000000</td>\n",
       "      <td>1.371738e+09</td>\n",
       "    </tr>\n",
       "  </tbody>\n",
       "</table>\n",
       "</div>"
      ],
      "text/plain": [
       "          LONGITUDE      LATITUDE         FLOOR    BUILDINGID       SPACEID  \\\n",
       "count  19937.000000  1.993700e+04  19937.000000  19937.000000  19937.000000   \n",
       "mean   -7464.275947  4.864871e+06      1.674575      1.212820    148.429954   \n",
       "std      123.402010  6.693318e+01      1.223078      0.833139     58.342106   \n",
       "min    -7691.338400  4.864746e+06      0.000000      0.000000      1.000000   \n",
       "25%    -7594.737000  4.864821e+06      1.000000      0.000000    110.000000   \n",
       "50%    -7423.060900  4.864852e+06      2.000000      1.000000    129.000000   \n",
       "75%    -7359.193000  4.864930e+06      3.000000      2.000000    207.000000   \n",
       "max    -7300.818990  4.865017e+06      4.000000      2.000000    254.000000   \n",
       "\n",
       "       RELATIVEPOSITION        USERID       PHONEID     TIMESTAMP  \n",
       "count      19937.000000  19937.000000  19937.000000  1.993700e+04  \n",
       "mean           1.833024      9.068014     13.021869  1.371421e+09  \n",
       "std            0.372964      4.988720      5.362410  5.572054e+05  \n",
       "min            1.000000      1.000000      1.000000  1.369909e+09  \n",
       "25%            2.000000      5.000000      8.000000  1.371056e+09  \n",
       "50%            2.000000     11.000000     13.000000  1.371716e+09  \n",
       "75%            2.000000     13.000000     14.000000  1.371721e+09  \n",
       "max            2.000000     18.000000     24.000000  1.371738e+09  "
      ]
     },
     "execution_count": 9,
     "metadata": {},
     "output_type": "execute_result"
    }
   ],
   "source": [
    "train_set_without_inputs.describe()"
   ]
  },
  {
   "cell_type": "markdown",
   "metadata": {},
   "source": [
    "#### missing values"
   ]
  },
  {
   "cell_type": "markdown",
   "metadata": {},
   "source": [
    "- No missing values"
   ]
  },
  {
   "cell_type": "code",
   "execution_count": 10,
   "metadata": {},
   "outputs": [
    {
     "name": "stdout",
     "output_type": "stream",
     "text": [
      "missing values for train_set: False\n",
      "missing values for test_set:  False\n"
     ]
    }
   ],
   "source": [
    "# check for missing values\n",
    "print(\"missing values for train_set: {}\".format(pd.isna(train_set).values.any())) \n",
    "print(\"missing values for test_set:  {}\".format(pd.isna(test_set).values.any())) "
   ]
  },
  {
   "cell_type": "markdown",
   "metadata": {},
   "source": [
    "#### Number of records by building"
   ]
  },
  {
   "cell_type": "code",
   "execution_count": 11,
   "metadata": {},
   "outputs": [
    {
     "data": {
      "text/html": [
       "<div>\n",
       "<style scoped>\n",
       "    .dataframe tbody tr th:only-of-type {\n",
       "        vertical-align: middle;\n",
       "    }\n",
       "\n",
       "    .dataframe tbody tr th {\n",
       "        vertical-align: top;\n",
       "    }\n",
       "\n",
       "    .dataframe thead th {\n",
       "        text-align: right;\n",
       "    }\n",
       "</style>\n",
       "<table border=\"1\" class=\"dataframe\">\n",
       "  <thead>\n",
       "    <tr style=\"text-align: right;\">\n",
       "      <th></th>\n",
       "      <th>RECORDS</th>\n",
       "    </tr>\n",
       "    <tr>\n",
       "      <th>BUILDINGID</th>\n",
       "      <th></th>\n",
       "    </tr>\n",
       "  </thead>\n",
       "  <tbody>\n",
       "    <tr>\n",
       "      <th>0</th>\n",
       "      <td>5249</td>\n",
       "    </tr>\n",
       "    <tr>\n",
       "      <th>1</th>\n",
       "      <td>5196</td>\n",
       "    </tr>\n",
       "    <tr>\n",
       "      <th>2</th>\n",
       "      <td>9492</td>\n",
       "    </tr>\n",
       "  </tbody>\n",
       "</table>\n",
       "</div>"
      ],
      "text/plain": [
       "            RECORDS\n",
       "BUILDINGID         \n",
       "0              5249\n",
       "1              5196\n",
       "2              9492"
      ]
     },
     "execution_count": 11,
     "metadata": {},
     "output_type": "execute_result"
    }
   ],
   "source": [
    "num_records_building_train = train_set.pivot_table(values='TIMESTAMP', index=['BUILDINGID'], aggfunc='count')\n",
    "num_records_building_train.rename(columns={\"TIMESTAMP\": \"RECORDS\"})"
   ]
  },
  {
   "cell_type": "code",
   "execution_count": 12,
   "metadata": {},
   "outputs": [
    {
     "data": {
      "image/png": "[encoded data removed]",
      "text/plain": [
       "<Figure size 432x288 with 1 Axes>"
      ]
     },
     "metadata": {
      "needs_background": "light"
     },
     "output_type": "display_data"
    }
   ],
   "source": [
    "plt.bar(num_records_building_train.index, num_records_building_train[\"TIMESTAMP\"], alpha=0.5)\n",
    "plt.xlabel(\"Building\")\n",
    "plt.ylabel(\"Records\")\n",
    "plt.xticks(range(0,len(num_records_building_train.index)))\n",
    "plt.title('Number of Records by Building')\n",
    "for x , y in zip(num_records_building_train.index,num_records_building_train[\"TIMESTAMP\"]): \n",
    "    plt.text(x,y,y,ha='center',va='bottom')# adjusting them\n",
    "plt.show()"
   ]
  },
  {
   "cell_type": "markdown",
   "metadata": {},
   "source": [
    "#### Number of records by building & floors"
   ]
  },
  {
   "cell_type": "code",
   "execution_count": 13,
   "metadata": {},
   "outputs": [
    {
     "data": {
      "text/html": [
       "<div>\n",
       "<style scoped>\n",
       "    .dataframe tbody tr th:only-of-type {\n",
       "        vertical-align: middle;\n",
       "    }\n",
       "\n",
       "    .dataframe tbody tr th {\n",
       "        vertical-align: top;\n",
       "    }\n",
       "\n",
       "    .dataframe thead th {\n",
       "        text-align: right;\n",
       "    }\n",
       "</style>\n",
       "<table border=\"1\" class=\"dataframe\">\n",
       "  <thead>\n",
       "    <tr style=\"text-align: right;\">\n",
       "      <th>BUILDINGID</th>\n",
       "      <th>0</th>\n",
       "      <th>1</th>\n",
       "      <th>2</th>\n",
       "    </tr>\n",
       "    <tr>\n",
       "      <th>FLOOR</th>\n",
       "      <th></th>\n",
       "      <th></th>\n",
       "      <th></th>\n",
       "    </tr>\n",
       "  </thead>\n",
       "  <tbody>\n",
       "    <tr>\n",
       "      <th>0</th>\n",
       "      <td>1059.0</td>\n",
       "      <td>1368.0</td>\n",
       "      <td>1942.0</td>\n",
       "    </tr>\n",
       "    <tr>\n",
       "      <th>1</th>\n",
       "      <td>1356.0</td>\n",
       "      <td>1484.0</td>\n",
       "      <td>2162.0</td>\n",
       "    </tr>\n",
       "    <tr>\n",
       "      <th>2</th>\n",
       "      <td>1443.0</td>\n",
       "      <td>1396.0</td>\n",
       "      <td>1577.0</td>\n",
       "    </tr>\n",
       "    <tr>\n",
       "      <th>3</th>\n",
       "      <td>1391.0</td>\n",
       "      <td>948.0</td>\n",
       "      <td>2709.0</td>\n",
       "    </tr>\n",
       "    <tr>\n",
       "      <th>4</th>\n",
       "      <td>0.0</td>\n",
       "      <td>0.0</td>\n",
       "      <td>1102.0</td>\n",
       "    </tr>\n",
       "  </tbody>\n",
       "</table>\n",
       "</div>"
      ],
      "text/plain": [
       "BUILDINGID       0       1       2\n",
       "FLOOR                             \n",
       "0           1059.0  1368.0  1942.0\n",
       "1           1356.0  1484.0  2162.0\n",
       "2           1443.0  1396.0  1577.0\n",
       "3           1391.0   948.0  2709.0\n",
       "4              0.0     0.0  1102.0"
      ]
     },
     "execution_count": 13,
     "metadata": {},
     "output_type": "execute_result"
    }
   ],
   "source": [
    "num_floors_buildings_records = train_set.pivot_table(values='TIMESTAMP', index=['FLOOR'],\n",
    "                                                 columns='BUILDINGID', aggfunc='count')\n",
    "\n",
    "#num_floors_buildings_records = (num_floors_buildings_records/num_floors_buildings_records.sum())*100\n",
    "num_floors_buildings_records = num_floors_buildings_records.replace(np.NaN, 0)\n",
    "num_floors_buildings_records"
   ]
  },
  {
   "cell_type": "code",
   "execution_count": 132,
   "metadata": {},
   "outputs": [
    {
     "data": {
      "image/png": "[encoded data removed]",
      "text/plain": [
       "<Figure size 432x288 with 1 Axes>"
      ]
     },
     "metadata": {
      "needs_background": "light"
     },
     "output_type": "display_data"
    }
   ],
   "source": [
    "barWidth = 0.2\n",
    "building_num = train_set[\"BUILDINGID\"].sort_values(ascending=True).unique()\n",
    "f1 = building_num\n",
    "f2 = [x + barWidth for x in f1]\n",
    "f3 = [x + barWidth for x in f2]\n",
    "f4 = [x + barWidth for x in f3]\n",
    "f5 = [x + barWidth for x in f4]\n",
    "plt.bar(f1, num_floors_buildings_records.loc[0,:], width = barWidth, alpha=0.5, label='f0')\n",
    "plt.bar(f2, num_floors_buildings_records.loc[1,:], width = barWidth, alpha=0.5, label='f1')\n",
    "plt.bar(f3, num_floors_buildings_records.loc[2,:], width = barWidth, alpha=0.5, label='f2')\n",
    "plt.bar(f4, num_floors_buildings_records.loc[3,:], width = barWidth, alpha=0.5, label='f3')\n",
    "plt.bar(f5, num_floors_buildings_records.loc[4,:], width = barWidth, alpha=0.5, label='f4')\n",
    "plt.legend()\n",
    "plt.xlabel(\"Building\")\n",
    "plt.ylabel(\"Records\")\n",
    "plt.title('Number of records by building & floors')\n",
    "r = range(len(building_num))\n",
    "plt.xticks([r + barWidth / 2 for r in range(len(num_floors_buildings_records.loc[0,:]))], ['0', '1', '2'])\n",
    "plt.show()"
   ]
  },
  {
   "cell_type": "markdown",
   "metadata": {},
   "source": [
    "#### Number of records by longitude and latitude and building"
   ]
  },
  {
   "cell_type": "code",
   "execution_count": 15,
   "metadata": {},
   "outputs": [
    {
     "data": {
      "image/png": "[encoded data removed]",
      "text/plain": [
       "<Figure size 432x288 with 1 Axes>"
      ]
     },
     "metadata": {
      "needs_background": "light"
     },
     "output_type": "display_data"
    }
   ],
   "source": [
    "plt.hist(train_set[train_set[\"BUILDINGID\"] ==0][\"LONGITUDE\"], label='b0', alpha=0.7)\n",
    "plt.hist(train_set[train_set[\"BUILDINGID\"] ==1][\"LONGITUDE\"], label='b1', alpha=0.7)\n",
    "plt.hist(train_set[train_set[\"BUILDINGID\"] ==2][\"LONGITUDE\"], label='b2', alpha=0.7)\n",
    "plt.legend()\n",
    "plt.xlabel(\"Longitude\")\n",
    "plt.ylabel(\"Records\")\n",
    "plt.show()"
   ]
  },
  {
   "cell_type": "code",
   "execution_count": 16,
   "metadata": {},
   "outputs": [
    {
     "data": {
      "image/png": "[encoded data removed]",
      "text/plain": [
       "<Figure size 432x288 with 1 Axes>"
      ]
     },
     "metadata": {
      "needs_background": "light"
     },
     "output_type": "display_data"
    }
   ],
   "source": [
    "plt.hist(train_set[train_set[\"BUILDINGID\"] ==0][\"LATITUDE\"], label='b0', alpha=0.7)\n",
    "plt.hist(train_set[train_set[\"BUILDINGID\"] ==1][\"LATITUDE\"], label='b1', alpha=0.7)\n",
    "plt.hist(train_set[train_set[\"BUILDINGID\"] ==2][\"LATITUDE\"], label='b2', alpha=0.7)\n",
    "plt.legend()\n",
    "plt.xlabel(\"Latitude\")\n",
    "plt.ylabel(\"Records\")\n",
    "plt.show()"
   ]
  },
  {
   "cell_type": "markdown",
   "metadata": {},
   "source": [
    "#### Number of records by longitude and latitude per building"
   ]
  },
  {
   "cell_type": "code",
   "execution_count": 129,
   "metadata": {},
   "outputs": [
    {
     "data": {
      "image/png": "[encoded data removed]",
      "text/plain": [
       "<Figure size 432x288 with 1 Axes>"
      ]
     },
     "metadata": {
      "needs_background": "light"
     },
     "output_type": "display_data"
    }
   ],
   "source": [
    "sns.scatterplot(x='LATITUDE', y='LONGITUDE', data = train_set, hue=\"BUILDINGID\")\n",
    "plt.title('Number of records by longitude and latitude per building')\n",
    "plt.show()"
   ]
  },
  {
   "cell_type": "markdown",
   "metadata": {},
   "source": [
    "In addition to examining the target variables, a quick sense check is conducted on the input variables as well.¶\n",
    "\n",
    "-    Due to high dimensionality (520 WAP columns), the variables are condensed to a single column per record - highest signal strength across all WAP\n",
    "-    Adds additional layer of analysis based on factors not considered by mere count of records - e.g. how does height of user / phone used / building floor affect signal strength\n",
    "-    Might help explain any variance in prediction models - e.g. higher accuracy for certain buildings & floors\n",
    "\n",
    "Maximum RSSI of the WAPs - check whether any WAPs have no recorded data; aids in feature selection for modelling"
   ]
  },
  {
   "cell_type": "markdown",
   "metadata": {},
   "source": [
    "#### Condensing input variables into single column - max_signal"
   ]
  },
  {
   "cell_type": "code",
   "execution_count": 18,
   "metadata": {},
   "outputs": [
    {
     "data": {
      "text/html": [
       "<div>\n",
       "<style scoped>\n",
       "    .dataframe tbody tr th:only-of-type {\n",
       "        vertical-align: middle;\n",
       "    }\n",
       "\n",
       "    .dataframe tbody tr th {\n",
       "        vertical-align: top;\n",
       "    }\n",
       "\n",
       "    .dataframe thead th {\n",
       "        text-align: right;\n",
       "    }\n",
       "</style>\n",
       "<table border=\"1\" class=\"dataframe\">\n",
       "  <thead>\n",
       "    <tr style=\"text-align: right;\">\n",
       "      <th></th>\n",
       "      <th>LONGITUDE</th>\n",
       "      <th>LATITUDE</th>\n",
       "      <th>FLOOR</th>\n",
       "      <th>BUILDINGID</th>\n",
       "      <th>SPACEID</th>\n",
       "      <th>RELATIVEPOSITION</th>\n",
       "      <th>USERID</th>\n",
       "      <th>PHONEID</th>\n",
       "      <th>TIMESTAMP</th>\n",
       "      <th>MAXSIGNAL</th>\n",
       "    </tr>\n",
       "  </thead>\n",
       "  <tbody>\n",
       "    <tr>\n",
       "      <th>0</th>\n",
       "      <td>-7541.2643</td>\n",
       "      <td>4.864921e+06</td>\n",
       "      <td>2</td>\n",
       "      <td>1</td>\n",
       "      <td>106</td>\n",
       "      <td>2</td>\n",
       "      <td>2</td>\n",
       "      <td>23</td>\n",
       "      <td>1371713733</td>\n",
       "      <td>-53.0</td>\n",
       "    </tr>\n",
       "    <tr>\n",
       "      <th>1</th>\n",
       "      <td>-7536.6212</td>\n",
       "      <td>4.864934e+06</td>\n",
       "      <td>2</td>\n",
       "      <td>1</td>\n",
       "      <td>106</td>\n",
       "      <td>2</td>\n",
       "      <td>2</td>\n",
       "      <td>23</td>\n",
       "      <td>1371713691</td>\n",
       "      <td>-46.0</td>\n",
       "    </tr>\n",
       "    <tr>\n",
       "      <th>2</th>\n",
       "      <td>-7519.1524</td>\n",
       "      <td>4.864950e+06</td>\n",
       "      <td>2</td>\n",
       "      <td>1</td>\n",
       "      <td>103</td>\n",
       "      <td>2</td>\n",
       "      <td>2</td>\n",
       "      <td>23</td>\n",
       "      <td>1371714095</td>\n",
       "      <td>-61.0</td>\n",
       "    </tr>\n",
       "    <tr>\n",
       "      <th>3</th>\n",
       "      <td>-7524.5704</td>\n",
       "      <td>4.864934e+06</td>\n",
       "      <td>2</td>\n",
       "      <td>1</td>\n",
       "      <td>102</td>\n",
       "      <td>2</td>\n",
       "      <td>2</td>\n",
       "      <td>23</td>\n",
       "      <td>1371713807</td>\n",
       "      <td>-55.0</td>\n",
       "    </tr>\n",
       "    <tr>\n",
       "      <th>4</th>\n",
       "      <td>-7632.1436</td>\n",
       "      <td>4.864982e+06</td>\n",
       "      <td>0</td>\n",
       "      <td>0</td>\n",
       "      <td>122</td>\n",
       "      <td>2</td>\n",
       "      <td>11</td>\n",
       "      <td>13</td>\n",
       "      <td>1369909710</td>\n",
       "      <td>NaN</td>\n",
       "    </tr>\n",
       "  </tbody>\n",
       "</table>\n",
       "</div>"
      ],
      "text/plain": [
       "   LONGITUDE      LATITUDE  FLOOR  BUILDINGID  SPACEID  RELATIVEPOSITION  \\\n",
       "0 -7541.2643  4.864921e+06      2           1      106                 2   \n",
       "1 -7536.6212  4.864934e+06      2           1      106                 2   \n",
       "2 -7519.1524  4.864950e+06      2           1      103                 2   \n",
       "3 -7524.5704  4.864934e+06      2           1      102                 2   \n",
       "4 -7632.1436  4.864982e+06      0           0      122                 2   \n",
       "\n",
       "   USERID  PHONEID   TIMESTAMP  MAXSIGNAL  \n",
       "0       2       23  1371713733      -53.0  \n",
       "1       2       23  1371713691      -46.0  \n",
       "2       2       23  1371714095      -61.0  \n",
       "3       2       23  1371713807      -55.0  \n",
       "4      11       13  1369909710        NaN  "
      ]
     },
     "execution_count": 18,
     "metadata": {},
     "output_type": "execute_result"
    }
   ],
   "source": [
    "#search the max signal\n",
    "#signal take on integer values ranging from -104 (weak) to 0 (strong), \n",
    "#with a value of 100 representing no signal detected (replace 100 by undefined values).\n",
    "\n",
    "train_set_without_inputs_maxSig = train_set_without_inputs\n",
    "train_set_without_inputs_maxSig['MAXSIGNAL'] = train_set_with_inputs.replace(100,np.NaN).max(axis=1)\n",
    "train_set_without_inputs_maxSig.head(5)"
   ]
  },
  {
   "cell_type": "markdown",
   "metadata": {},
   "source": [
    "As seen in Row 4 of the sample table, some records do not have any max_signal strength - all WAPs for that record received no RSSI reading (denoted as 100 in this dataset). These rows are not automatically filtered out as they might provide additional insights and be essential to modelling."
   ]
  },
  {
   "cell_type": "markdown",
   "metadata": {},
   "source": [
    "### Examining records with no RSSI readings (NaN records)"
   ]
  },
  {
   "cell_type": "markdown",
   "metadata": {},
   "source": [
    "#### Number of NaN Records per Building"
   ]
  },
  {
   "cell_type": "code",
   "execution_count": 19,
   "metadata": {},
   "outputs": [
    {
     "data": {
      "text/html": [
       "<div>\n",
       "<style scoped>\n",
       "    .dataframe tbody tr th:only-of-type {\n",
       "        vertical-align: middle;\n",
       "    }\n",
       "\n",
       "    .dataframe tbody tr th {\n",
       "        vertical-align: top;\n",
       "    }\n",
       "\n",
       "    .dataframe thead th {\n",
       "        text-align: right;\n",
       "    }\n",
       "</style>\n",
       "<table border=\"1\" class=\"dataframe\">\n",
       "  <thead>\n",
       "    <tr style=\"text-align: right;\">\n",
       "      <th></th>\n",
       "      <th>BUILDINGID</th>\n",
       "      <th>TIMESTAMP</th>\n",
       "    </tr>\n",
       "  </thead>\n",
       "  <tbody>\n",
       "    <tr>\n",
       "      <th>0</th>\n",
       "      <td>0</td>\n",
       "      <td>1</td>\n",
       "    </tr>\n",
       "    <tr>\n",
       "      <th>1</th>\n",
       "      <td>1</td>\n",
       "      <td>37</td>\n",
       "    </tr>\n",
       "    <tr>\n",
       "      <th>2</th>\n",
       "      <td>2</td>\n",
       "      <td>38</td>\n",
       "    </tr>\n",
       "  </tbody>\n",
       "</table>\n",
       "</div>"
      ],
      "text/plain": [
       "   BUILDINGID  TIMESTAMP\n",
       "0           0          1\n",
       "1           1         37\n",
       "2           2         38"
      ]
     },
     "execution_count": 19,
     "metadata": {},
     "output_type": "execute_result"
    }
   ],
   "source": [
    "train_set_without_inputs_maxSig_building_nan = \\\n",
    "    train_set_without_inputs_maxSig.loc[np.isnan(train_set_without_inputs_maxSig['MAXSIGNAL']),] #week signals\n",
    "train_set_without_inputs_maxSig_building_nan =\\\n",
    "    train_set_without_inputs_maxSig_building_nan.groupby(['BUILDINGID']).TIMESTAMP.count().reset_index()\n",
    "train_set_without_inputs_maxSig_building_nan.rename(columns={\"TIMESTAMP\": \"RECORDS\"})\n",
    "train_set_without_inputs_maxSig_building_nan"
   ]
  },
  {
   "cell_type": "code",
   "execution_count": 20,
   "metadata": {},
   "outputs": [
    {
     "name": "stdout",
     "output_type": "stream",
     "text": [
      "Number of records with no RSSI readings (i.e. NaN records): 76 (0.38%)\n"
     ]
    }
   ],
   "source": [
    "print(\"Number of records with no RSSI readings (i.e. NaN records): %i (%.2f%%)\" % \\\n",
    "      (train_set_without_inputs_maxSig_building_nan.TIMESTAMP.sum(), \n",
    "     (train_set_without_inputs_maxSig_building_nan.TIMESTAMP.sum()/len(train_set)*100)))"
   ]
  },
  {
   "cell_type": "markdown",
   "metadata": {},
   "source": [
    "- Number of records with no RSSI readings (i.e. NaN records): 76 (0.38%)"
   ]
  },
  {
   "cell_type": "code",
   "execution_count": 21,
   "metadata": {},
   "outputs": [
    {
     "data": {
      "image/png": "[encoded data removed]",
      "text/plain": [
       "<Figure size 432x288 with 1 Axes>"
      ]
     },
     "metadata": {
      "needs_background": "light"
     },
     "output_type": "display_data"
    }
   ],
   "source": [
    "plt.bar(train_set_without_inputs_maxSig_building_nan.BUILDINGID, \\\n",
    "        train_set_without_inputs_maxSig_building_nan.TIMESTAMP)\n",
    "plt.xlabel(\"Building\")\n",
    "plt.ylabel(\"NaN Records\")\n",
    "plt.title('Number of NaN Records per Building')\n",
    "for x , y in \\\n",
    "    zip(train_set_without_inputs_maxSig_building_nan.BUILDINGID,\\\n",
    "        train_set_without_inputs_maxSig_building_nan.TIMESTAMP): \n",
    "    plt.text(x,y,y,ha='center',va='bottom')# adjusting them\n",
    "plt.show()"
   ]
  },
  {
   "cell_type": "markdown",
   "metadata": {},
   "source": [
    "#### Number of NaN Records per Building and Floor"
   ]
  },
  {
   "cell_type": "code",
   "execution_count": 22,
   "metadata": {},
   "outputs": [
    {
     "data": {
      "text/html": [
       "<div>\n",
       "<style scoped>\n",
       "    .dataframe tbody tr th:only-of-type {\n",
       "        vertical-align: middle;\n",
       "    }\n",
       "\n",
       "    .dataframe tbody tr th {\n",
       "        vertical-align: top;\n",
       "    }\n",
       "\n",
       "    .dataframe thead th {\n",
       "        text-align: right;\n",
       "    }\n",
       "</style>\n",
       "<table border=\"1\" class=\"dataframe\">\n",
       "  <thead>\n",
       "    <tr style=\"text-align: right;\">\n",
       "      <th>BUILDINGID</th>\n",
       "      <th>0</th>\n",
       "      <th>1</th>\n",
       "      <th>2</th>\n",
       "    </tr>\n",
       "    <tr>\n",
       "      <th>FLOOR</th>\n",
       "      <th></th>\n",
       "      <th></th>\n",
       "      <th></th>\n",
       "    </tr>\n",
       "  </thead>\n",
       "  <tbody>\n",
       "    <tr>\n",
       "      <th>0</th>\n",
       "      <td>1059.0</td>\n",
       "      <td>1368.0</td>\n",
       "      <td>1942.0</td>\n",
       "    </tr>\n",
       "    <tr>\n",
       "      <th>1</th>\n",
       "      <td>1356.0</td>\n",
       "      <td>1484.0</td>\n",
       "      <td>2162.0</td>\n",
       "    </tr>\n",
       "    <tr>\n",
       "      <th>2</th>\n",
       "      <td>1443.0</td>\n",
       "      <td>1396.0</td>\n",
       "      <td>1577.0</td>\n",
       "    </tr>\n",
       "    <tr>\n",
       "      <th>3</th>\n",
       "      <td>1391.0</td>\n",
       "      <td>948.0</td>\n",
       "      <td>2709.0</td>\n",
       "    </tr>\n",
       "    <tr>\n",
       "      <th>4</th>\n",
       "      <td>0.0</td>\n",
       "      <td>0.0</td>\n",
       "      <td>1102.0</td>\n",
       "    </tr>\n",
       "  </tbody>\n",
       "</table>\n",
       "</div>"
      ],
      "text/plain": [
       "BUILDINGID       0       1       2\n",
       "FLOOR                             \n",
       "0           1059.0  1368.0  1942.0\n",
       "1           1356.0  1484.0  2162.0\n",
       "2           1443.0  1396.0  1577.0\n",
       "3           1391.0   948.0  2709.0\n",
       "4              0.0     0.0  1102.0"
      ]
     },
     "execution_count": 22,
     "metadata": {},
     "output_type": "execute_result"
    }
   ],
   "source": [
    "train_set_without_inputs_maxSig_floor_building_nan = \\\n",
    "        train_set_without_inputs_maxSig.pivot_table(values='TIMESTAMP', index=['FLOOR'],\n",
    "                                                 columns='BUILDINGID', aggfunc='count')\n",
    "train_set_without_inputs_maxSig_floor_building_nan = \\\n",
    "        train_set_without_inputs_maxSig_floor_building_nan.replace(np.NaN, 0)\n",
    "train_set_without_inputs_maxSig_floor_building_nan"
   ]
  },
  {
   "cell_type": "code",
   "execution_count": 131,
   "metadata": {},
   "outputs": [
    {
     "data": {
      "image/png": "[encoded data removed]",
      "text/plain": [
       "<Figure size 432x288 with 1 Axes>"
      ]
     },
     "metadata": {
      "needs_background": "light"
     },
     "output_type": "display_data"
    }
   ],
   "source": [
    "barWidth = 0.2\n",
    "building_num = train_set[\"BUILDINGID\"].sort_values(ascending=True).unique()\n",
    "f1 = building_num\n",
    "f2 = [x + barWidth for x in f1]\n",
    "f3 = [x + barWidth for x in f2]\n",
    "f4 = [x + barWidth for x in f3]\n",
    "f5 = [x + barWidth for x in f4]\n",
    "plt.bar(f1, train_set_without_inputs_maxSig_floor_building_nan.loc[0,:], width = barWidth, alpha=0.5, label='f0')\n",
    "plt.bar(f2, train_set_without_inputs_maxSig_floor_building_nan.loc[1,:], width = barWidth, alpha=0.5, label='f1')\n",
    "plt.bar(f3, train_set_without_inputs_maxSig_floor_building_nan.loc[2,:], width = barWidth, alpha=0.5, label='f2')\n",
    "plt.bar(f4, train_set_without_inputs_maxSig_floor_building_nan.loc[3,:], width = barWidth, alpha=0.5, label='f3')\n",
    "#plt.bar(f5, train_set_without_inputs_maxSig_floor_building_nan.loc[4,:], width = barWidth, alpha=0.5, label='f4')\n",
    "plt.legend()\n",
    "plt.xlabel(\"Building\")\n",
    "plt.ylabel(\"Records\")\n",
    "plt.title('Number of records by building & floors')\n",
    "r = range(len(building_num))\n",
    "plt.xticks([r + barWidth / 2 for r in range(len(num_floors_buildings_records.loc[0,:]))], ['0', '1', '2'])\n",
    "\n",
    "plt.show()"
   ]
  },
  {
   "cell_type": "markdown",
   "metadata": {},
   "source": [
    "#### Number of records per user"
   ]
  },
  {
   "cell_type": "code",
   "execution_count": 24,
   "metadata": {},
   "outputs": [
    {
     "data": {
      "text/html": [
       "<div>\n",
       "<style scoped>\n",
       "    .dataframe tbody tr th:only-of-type {\n",
       "        vertical-align: middle;\n",
       "    }\n",
       "\n",
       "    .dataframe tbody tr th {\n",
       "        vertical-align: top;\n",
       "    }\n",
       "\n",
       "    .dataframe thead th {\n",
       "        text-align: right;\n",
       "    }\n",
       "</style>\n",
       "<table border=\"1\" class=\"dataframe\">\n",
       "  <thead>\n",
       "    <tr style=\"text-align: right;\">\n",
       "      <th></th>\n",
       "      <th>USERID</th>\n",
       "      <th>TIMESTAMP</th>\n",
       "    </tr>\n",
       "  </thead>\n",
       "  <tbody>\n",
       "    <tr>\n",
       "      <th>0</th>\n",
       "      <td>1</td>\n",
       "      <td>2737</td>\n",
       "    </tr>\n",
       "    <tr>\n",
       "      <th>1</th>\n",
       "      <td>2</td>\n",
       "      <td>1091</td>\n",
       "    </tr>\n",
       "    <tr>\n",
       "      <th>2</th>\n",
       "      <td>3</td>\n",
       "      <td>192</td>\n",
       "    </tr>\n",
       "    <tr>\n",
       "      <th>3</th>\n",
       "      <td>4</td>\n",
       "      <td>374</td>\n",
       "    </tr>\n",
       "    <tr>\n",
       "      <th>4</th>\n",
       "      <td>5</td>\n",
       "      <td>610</td>\n",
       "    </tr>\n",
       "    <tr>\n",
       "      <th>5</th>\n",
       "      <td>6</td>\n",
       "      <td>980</td>\n",
       "    </tr>\n",
       "    <tr>\n",
       "      <th>6</th>\n",
       "      <td>7</td>\n",
       "      <td>1383</td>\n",
       "    </tr>\n",
       "    <tr>\n",
       "      <th>7</th>\n",
       "      <td>8</td>\n",
       "      <td>507</td>\n",
       "    </tr>\n",
       "    <tr>\n",
       "      <th>8</th>\n",
       "      <td>9</td>\n",
       "      <td>1066</td>\n",
       "    </tr>\n",
       "    <tr>\n",
       "      <th>9</th>\n",
       "      <td>10</td>\n",
       "      <td>913</td>\n",
       "    </tr>\n",
       "    <tr>\n",
       "      <th>10</th>\n",
       "      <td>11</td>\n",
       "      <td>4516</td>\n",
       "    </tr>\n",
       "    <tr>\n",
       "      <th>11</th>\n",
       "      <td>12</td>\n",
       "      <td>437</td>\n",
       "    </tr>\n",
       "    <tr>\n",
       "      <th>12</th>\n",
       "      <td>13</td>\n",
       "      <td>841</td>\n",
       "    </tr>\n",
       "    <tr>\n",
       "      <th>13</th>\n",
       "      <td>14</td>\n",
       "      <td>1596</td>\n",
       "    </tr>\n",
       "    <tr>\n",
       "      <th>14</th>\n",
       "      <td>15</td>\n",
       "      <td>498</td>\n",
       "    </tr>\n",
       "    <tr>\n",
       "      <th>15</th>\n",
       "      <td>16</td>\n",
       "      <td>1032</td>\n",
       "    </tr>\n",
       "    <tr>\n",
       "      <th>16</th>\n",
       "      <td>17</td>\n",
       "      <td>724</td>\n",
       "    </tr>\n",
       "    <tr>\n",
       "      <th>17</th>\n",
       "      <td>18</td>\n",
       "      <td>440</td>\n",
       "    </tr>\n",
       "  </tbody>\n",
       "</table>\n",
       "</div>"
      ],
      "text/plain": [
       "    USERID  TIMESTAMP\n",
       "0        1       2737\n",
       "1        2       1091\n",
       "2        3        192\n",
       "3        4        374\n",
       "4        5        610\n",
       "5        6        980\n",
       "6        7       1383\n",
       "7        8        507\n",
       "8        9       1066\n",
       "9       10        913\n",
       "10      11       4516\n",
       "11      12        437\n",
       "12      13        841\n",
       "13      14       1596\n",
       "14      15        498\n",
       "15      16       1032\n",
       "16      17        724\n",
       "17      18        440"
      ]
     },
     "execution_count": 24,
     "metadata": {},
     "output_type": "execute_result"
    }
   ],
   "source": [
    "train_set_userID_TimeTamp = train_set_without_inputs_maxSig.groupby(['USERID']).TIMESTAMP.count().reset_index()\n",
    "train_set_userID_TimeTamp"
   ]
  },
  {
   "cell_type": "code",
   "execution_count": 25,
   "metadata": {},
   "outputs": [
    {
     "name": "stdout",
     "output_type": "stream",
     "text": [
      "shape of train_set_without_inputs_maxSig_nan: (76, 10)\n"
     ]
    }
   ],
   "source": [
    "#data base for week signals\n",
    "train_set_without_inputs_maxSig_nan = \\\n",
    "                    train_set_without_inputs_maxSig.loc[np.isnan(train_set_without_inputs_maxSig['MAXSIGNAL']),]\n",
    "print(\"shape of train_set_without_inputs_maxSig_nan: {}\".format(train_set_without_inputs_maxSig_nan.shape))"
   ]
  },
  {
   "cell_type": "markdown",
   "metadata": {},
   "source": [
    "- distribution of NaN records per user"
   ]
  },
  {
   "cell_type": "code",
   "execution_count": 26,
   "metadata": {},
   "outputs": [
    {
     "data": {
      "text/html": [
       "<div>\n",
       "<style scoped>\n",
       "    .dataframe tbody tr th:only-of-type {\n",
       "        vertical-align: middle;\n",
       "    }\n",
       "\n",
       "    .dataframe tbody tr th {\n",
       "        vertical-align: top;\n",
       "    }\n",
       "\n",
       "    .dataframe thead th {\n",
       "        text-align: right;\n",
       "    }\n",
       "</style>\n",
       "<table border=\"1\" class=\"dataframe\">\n",
       "  <thead>\n",
       "    <tr style=\"text-align: right;\">\n",
       "      <th></th>\n",
       "      <th>USERID</th>\n",
       "      <th>TIMESTAMP</th>\n",
       "    </tr>\n",
       "  </thead>\n",
       "  <tbody>\n",
       "    <tr>\n",
       "      <th>0</th>\n",
       "      <td>7</td>\n",
       "      <td>1</td>\n",
       "    </tr>\n",
       "    <tr>\n",
       "      <th>1</th>\n",
       "      <td>8</td>\n",
       "      <td>59</td>\n",
       "    </tr>\n",
       "    <tr>\n",
       "      <th>2</th>\n",
       "      <td>11</td>\n",
       "      <td>2</td>\n",
       "    </tr>\n",
       "    <tr>\n",
       "      <th>3</th>\n",
       "      <td>17</td>\n",
       "      <td>14</td>\n",
       "    </tr>\n",
       "  </tbody>\n",
       "</table>\n",
       "</div>"
      ],
      "text/plain": [
       "   USERID  TIMESTAMP\n",
       "0       7          1\n",
       "1       8         59\n",
       "2      11          2\n",
       "3      17         14"
      ]
     },
     "execution_count": 26,
     "metadata": {},
     "output_type": "execute_result"
    }
   ],
   "source": [
    "train_set_without_inputs_maxSig_users_nan =\\\n",
    "                train_set_without_inputs_maxSig_nan.groupby(['USERID']).TIMESTAMP.count().reset_index()\n",
    "train_set_without_inputs_maxSig_users_nan"
   ]
  },
  {
   "cell_type": "code",
   "execution_count": 27,
   "metadata": {},
   "outputs": [
    {
     "data": {
      "text/html": [
       "<div>\n",
       "<style scoped>\n",
       "    .dataframe tbody tr th:only-of-type {\n",
       "        vertical-align: middle;\n",
       "    }\n",
       "\n",
       "    .dataframe tbody tr th {\n",
       "        vertical-align: top;\n",
       "    }\n",
       "\n",
       "    .dataframe thead th {\n",
       "        text-align: right;\n",
       "    }\n",
       "</style>\n",
       "<table border=\"1\" class=\"dataframe\">\n",
       "  <thead>\n",
       "    <tr style=\"text-align: right;\">\n",
       "      <th></th>\n",
       "      <th>USERID</th>\n",
       "      <th>RECORDS</th>\n",
       "    </tr>\n",
       "  </thead>\n",
       "  <tbody>\n",
       "    <tr>\n",
       "      <th>0</th>\n",
       "      <td>7</td>\n",
       "      <td>1.32%</td>\n",
       "    </tr>\n",
       "    <tr>\n",
       "      <th>1</th>\n",
       "      <td>8</td>\n",
       "      <td>77.63%</td>\n",
       "    </tr>\n",
       "    <tr>\n",
       "      <th>2</th>\n",
       "      <td>11</td>\n",
       "      <td>2.63%</td>\n",
       "    </tr>\n",
       "    <tr>\n",
       "      <th>3</th>\n",
       "      <td>17</td>\n",
       "      <td>18.42%</td>\n",
       "    </tr>\n",
       "  </tbody>\n",
       "</table>\n",
       "</div>"
      ],
      "text/plain": [
       "   USERID RECORDS\n",
       "0       7   1.32%\n",
       "1       8  77.63%\n",
       "2      11   2.63%\n",
       "3      17  18.42%"
      ]
     },
     "execution_count": 27,
     "metadata": {},
     "output_type": "execute_result"
    }
   ],
   "source": [
    "train_set_without_inputs_maxSig_users_nan_percent =\\\n",
    "                train_set_without_inputs_maxSig_nan.groupby(['USERID']).TIMESTAMP.count().reset_index()\n",
    "total =train_set_without_inputs_maxSig_users_nan_percent['TIMESTAMP'].sum()\n",
    "train_set_without_inputs_maxSig_users_nan_percent['TIMESTAMP'] = train_set_without_inputs_maxSig_users_nan_percent['TIMESTAMP'].apply(lambda x: \"%.2f%%\" % ((x/total)*100))\n",
    "train_set_without_inputs_maxSig_users_nan_percent.rename(columns={\"TIMESTAMP\": \"RECORDS\"})"
   ]
  },
  {
   "cell_type": "markdown",
   "metadata": {},
   "source": [
    "Majority of the NaN records originate from User 8"
   ]
  },
  {
   "cell_type": "code",
   "execution_count": 28,
   "metadata": {},
   "outputs": [
    {
     "data": {
      "image/png": "[encoded data removed]",
      "text/plain": [
       "<Figure size 432x288 with 1 Axes>"
      ]
     },
     "metadata": {
      "needs_background": "light"
     },
     "output_type": "display_data"
    }
   ],
   "source": [
    "plt.bar(train_set_without_inputs_maxSig_users_nan.USERID, \n",
    "        train_set_without_inputs_maxSig_users_nan.TIMESTAMP)\n",
    "plt.xlabel(\"USERID\")\n",
    "plt.ylabel(\"NaN Records\")\n",
    "plt.xticks([1, 3, 5, 7, 8, 9, 11,13, 15, 17, 18])\n",
    "plt.title('Number of NaN Records per User')\n",
    "for x , y in \\\n",
    "        zip(train_set_without_inputs_maxSig_users_nan.USERID,train_set_without_inputs_maxSig_users_nan.TIMESTAMP): \n",
    "    plt.text(x,y,y,ha='center',va='bottom')# adjusting them\n",
    "plt.show()"
   ]
  },
  {
   "cell_type": "markdown",
   "metadata": {},
   "source": [
    "#### Geographical Distribution of NaN Records"
   ]
  },
  {
   "cell_type": "code",
   "execution_count": 29,
   "metadata": {},
   "outputs": [
    {
     "data": {
      "image/png": "[encoded data removed]",
      "text/plain": [
       "<Figure size 432x288 with 1 Axes>"
      ]
     },
     "metadata": {
      "needs_background": "light"
     },
     "output_type": "display_data"
    }
   ],
   "source": [
    "#lat-long scatter plot\n",
    "sns.scatterplot(x='LONGITUDE', y='LATITUDE', data = train_set_without_inputs_maxSig_nan, hue=\"BUILDINGID\")\n",
    "plt.title('       Geographical Distribution of NaN Records')\n",
    "plt.show()"
   ]
  },
  {
   "cell_type": "markdown",
   "metadata": {},
   "source": [
    "- Geographical distribution shows few concentrated clusters"
   ]
  },
  {
   "cell_type": "markdown",
   "metadata": {},
   "source": [
    "#### Number of NaN records within VALIDATION set"
   ]
  },
  {
   "cell_type": "code",
   "execution_count": 30,
   "metadata": {},
   "outputs": [
    {
     "name": "stdout",
     "output_type": "stream",
     "text": [
      "Number of NaN records within VALIDATION set: 0 (0.00%)\n"
     ]
    }
   ],
   "source": [
    "test_set_maxSig = test_set[[x for x in test_set.columns if 'WAP' not in x]]\n",
    "test_set_maxSig['MAXSIGNAL'] = test_set.loc[:,[x for x in test_set.columns if 'WAP' in x]].replace(100,np.NaN).max(axis=1)\n",
    "\n",
    "test_set_maxSig_nan = test_set_maxSig['MAXSIGNAL'].isnull().sum()\n",
    "print(\"Number of NaN records within VALIDATION set: %i (%.2f%%)\" % (test_set_maxSig_nan, (test_set_maxSig_nan/len(test_set)*100)))"
   ]
  },
  {
   "cell_type": "markdown",
   "metadata": {},
   "source": [
    "### Removing data"
   ]
  },
  {
   "cell_type": "code",
   "execution_count": 31,
   "metadata": {},
   "outputs": [],
   "source": [
    "#train_set_without_inputs_maxSig = train_set_without_inputs\n",
    "#train_set_without_inputs_maxSig['MAXSIGNAL'] = train_set_with_inputs.replace(100,np.NaN).max(axis=1)\n",
    "#train_set_without_inputs_maxSig.head(5)\n",
    "\n",
    "#tab2 = pd.DataFrame([[8,2,3], [8,5,6], [8,8,8], [8,8,10], [8,8,8]], columns=['aa','ab','ac'])\n",
    "#tab2 = tab2.replace(8,np.NaN) \n",
    "#tab2['m'] = tab2.max(axis=1)\n",
    "#tab2"
   ]
  },
  {
   "cell_type": "code",
   "execution_count": 32,
   "metadata": {},
   "outputs": [
    {
     "name": "stdout",
     "output_type": "stream",
     "text": [
      "Number of WAP variables removed: 55\n",
      "Remaining WAP variables: 465\n"
     ]
    }
   ],
   "source": [
    "nan_rows_index = train_set_without_inputs_maxSig_nan.index.to_list()\n",
    "train = train_set.iloc[[x for x in train_set.index if x not in nan_rows_index]]\n",
    "wap_max = train[[x for x in train.columns if 'WAP' in x]].replace(100,np.nan).max(axis=0).reset_index()\n",
    "wap_max = wap_max.rename(columns={'index':'wap_name', 0: 'max_signal'}).fillna(10)\n",
    "\n",
    "cols_torm = wap_max.loc[wap_max['max_signal']==10,'wap_name'].tolist()\n",
    "train = train.drop(train[cols_torm],axis=1)\n",
    "test = test_set.drop(test_set[cols_torm],axis=1)\n",
    "\n",
    "print('Number of WAP variables removed: {}'.format(len(cols_torm)))\n",
    "print('Remaining WAP variables: {}'.format(len([x for x in train.columns if 'WAP' in x])))"
   ]
  },
  {
   "cell_type": "markdown",
   "metadata": {},
   "source": [
    "# Predictive Modelling"
   ]
  },
  {
   "cell_type": "markdown",
   "metadata": {},
   "source": [
    "### Classification Algorithms\n",
    "Input variables: WAP001 to WAP520\n",
    "\n",
    "Excluding the 55 WAP variables with no RSSI readings\n",
    "Target variables: Building and Floor\n",
    "\n",
    "Total classes: 13 (cross join of all available buildings and floors)"
   ]
  },
  {
   "cell_type": "code",
   "execution_count": 33,
   "metadata": {},
   "outputs": [
    {
     "data": {
      "text/plain": [
       "array(['B1_F2', 'B2_F3', 'B2_F4', 'B2_F2', 'B1_F0', 'B1_F1', 'B2_F1',\n",
       "       'B1_F3', 'B2_F0', 'B0_F0', 'B0_F2', 'B0_F1', 'B0_F3'], dtype=object)"
      ]
     },
     "execution_count": 33,
     "metadata": {},
     "output_type": "execute_result"
    }
   ],
   "source": [
    "# Creates single variable combining both targets\n",
    "train['target'] = 'B' + train['BUILDINGID'].astype(str) + '_F' + train['FLOOR'].astype(str)\n",
    "test['target']  = 'B' + test['BUILDINGID'].astype(str) + '_F' + test['FLOOR'].astype(str)\n",
    "train['target'].unique()"
   ]
  },
  {
   "cell_type": "code",
   "execution_count": 34,
   "metadata": {},
   "outputs": [],
   "source": [
    "#Step 1: Algorithm selection\n",
    "\n",
    "#    A mixture of linear and non-linear models are selected\n",
    "#    Using 5-fold cross validation to evaluate which model has the highest accuracy"
   ]
  },
  {
   "cell_type": "code",
   "execution_count": 35,
   "metadata": {},
   "outputs": [],
   "source": [
    "# class_models = []\n",
    "# class_models.append(('Linear Discriminant Analysis', LinearDiscriminantAnalysis()))\n",
    "# class_models.append(('Decision Tree', DecisionTreeClassifier(random_state=20)))\n",
    "# class_models.append(('Random Forest', RandomForestClassifier(random_state=20)))\n",
    "# class_models.append(('Neural Network', MLPClassifier(random_state=20)))\n",
    "# class_models.append(('XGBoost', XGBClassifier(random_state=20)))\n",
    "# #class_models.append(('CatBoost', CatBoostClassifier(silent=True,iterations=200,random_seed=20)))\n",
    "\n",
    "# #evaluate each model in turn\n",
    "# class_results   = []\n",
    "# class_names     = []\n",
    "# cv_results_mean = []\n",
    "# cv_results_std  = []\n",
    "# for name, model in class_models:\n",
    "#     st = time.time()\n",
    "#     kfold = KFold(n_splits=5, random_state=20)\n",
    "#     cv_results = cross_val_score(model, train[[x for x in train.columns if 'WAP' in x]], train['target'].ravel(), cv=kfold, scoring='accuracy',n_jobs=-1)\n",
    "#     class_results.append(cv_results)\n",
    "#     class_names.append(name)\n",
    "#     cv_results_mean\n",
    "#     print(\"{}: {:.4f} ({:.4f})\".format(name, cv_results.mean(), cv_results.std()))\n",
    "#     print(\"\\tTime elapsed: {:.2f} seconds\".format(time.time()-st))"
   ]
  },
  {
   "cell_type": "code",
   "execution_count": 116,
   "metadata": {},
   "outputs": [
    {
     "data": {
      "text/plain": [
       "['Linear Discriminant Analysis',\n",
       " 'Decision Tree',\n",
       " 'Random Forest',\n",
       " 'Neural Network',\n",
       " 'XGBoost']"
      ]
     },
     "execution_count": 116,
     "metadata": {},
     "output_type": "execute_result"
    }
   ],
   "source": [
    "#saveList(class_results, 'class_results_classifier_allModels.npy')\n",
    "#saveList(class_names, 'class_names_classifier_allModels.npy')\n",
    "class_results = loadList('class_results_classifier_allModels.npy') \n",
    "class_names = loadList('class_names_classifier_allModels.npy')\n",
    "class_names"
   ]
  },
  {
   "cell_type": "code",
   "execution_count": 37,
   "metadata": {},
   "outputs": [
    {
     "data": {
      "image/png": "[encoded data removed]",
      "text/plain": [
       "<Figure size 1080x360 with 1 Axes>"
      ]
     },
     "metadata": {
      "needs_background": "light"
     },
     "output_type": "display_data"
    }
   ],
   "source": [
    "# Compare Algorithms\n",
    "fig = plt.figure(figsize=(15,5))\n",
    "fig.suptitle('Algorithm Comparison',fontsize=20)\n",
    "ax = fig.add_subplot(111)\n",
    "plt.boxplot(class_results)\n",
    "ax.set_xticklabels(class_names,rotation=40)\n",
    "plt.show()"
   ]
  },
  {
   "cell_type": "markdown",
   "metadata": {},
   "source": [
    "- XGBoost and Random Forest are highest average accuracy, hence will be the model selected for the classification."
   ]
  },
  {
   "cell_type": "markdown",
   "metadata": {},
   "source": [
    "#### XGBoost Model - classification"
   ]
  },
  {
   "cell_type": "code",
   "execution_count": 102,
   "metadata": {},
   "outputs": [],
   "source": [
    "# st = time.time()\n",
    "# original_class_params = {\n",
    "#  \"learning_rate\":0.1,\n",
    "#  \"n_estimators\":100,\n",
    "#  \"max_depth\":5,\n",
    "#  \"min_child_weight\":1,\n",
    "#  \"gamma\":0,\n",
    "#  \"alpha\":0,\n",
    "#  \"lambda\":1,\n",
    "# }\n",
    "# class_xg = XGBClassifier(**original_class_params,objective=\"multi:softmax\",num_classes=13,seed=20,n_jobs=-1)\n",
    "# class_xg.fit(train[[x for x in train.columns if 'WAP' in x]], train['target'].ravel())\n",
    "# class_preds = class_xg.predict(test[[x for x in train.columns if 'WAP' in x]])\n",
    "# print(\"Accuracy: {:.2f}%\".format(accuracy_score(test['target'].ravel(), class_preds)*100))\n",
    "# print(\"\\tTime elapsed: {:.2f} seconds\".format(time.time()-st))"
   ]
  },
  {
   "cell_type": "code",
   "execution_count": 103,
   "metadata": {},
   "outputs": [],
   "source": [
    "#save model \n",
    "#dump(class_xg, 'XGB_Base_Classifier.joblib')\n",
    "#load model\n",
    "class_xg = load('XGB_Base_Classifier.joblib')"
   ]
  },
  {
   "cell_type": "code",
   "execution_count": 104,
   "metadata": {},
   "outputs": [
    {
     "name": "stdout",
     "output_type": "stream",
     "text": [
      "Accuracy: 87.67%\n"
     ]
    }
   ],
   "source": [
    "#saveList(class_preds.tolist(),'class_preds_base_XGBClassifier.npy')\n",
    "class_preds = loadList('class_preds_base_XGBClassifier.npy')\n",
    "class_preds = np.asarray(class_preds)\n",
    "print(\"Accuracy: {:.2f}%\".format(accuracy_score(test['target'].ravel(), class_preds)*100))"
   ]
  },
  {
   "cell_type": "code",
   "execution_count": 105,
   "metadata": {},
   "outputs": [
    {
     "name": "stdout",
     "output_type": "stream",
     "text": [
      "Confusion Matrix:\n",
      "\n"
     ]
    },
    {
     "data": {
      "image/png": "[encoded data removed]",
      "text/plain": [
       "<Figure size 432x288 with 2 Axes>"
      ]
     },
     "metadata": {
      "needs_background": "light"
     },
     "output_type": "display_data"
    }
   ],
   "source": [
    "class_cm = confusion_matrix(test['target'].ravel(), class_preds)\n",
    "normed_cm = (class_cm.T / class_cm.astype(np.float).sum(axis=1)).T\n",
    "print(\"Confusion Matrix:\\n\")\n",
    "sns.heatmap(normed_cm, cmap=plt.cm.gist_earth_r, xticklabels=test['target'].unique(), yticklabels=test['target'].unique())\n",
    "plt.ylabel('Actual')\n",
    "plt.xlabel('Predicted')\n",
    "plt.title('Normalized confusion matrix')\n",
    "plt.show(block=False)"
   ]
  },
  {
   "cell_type": "markdown",
   "metadata": {},
   "source": [
    "##### XGBClassifier Model improvements (using RandomizedSearchCV)"
   ]
  },
  {
   "cell_type": "code",
   "execution_count": 106,
   "metadata": {},
   "outputs": [
    {
     "data": {
      "text/html": [
       "<div>\n",
       "<style scoped>\n",
       "    .dataframe tbody tr th:only-of-type {\n",
       "        vertical-align: middle;\n",
       "    }\n",
       "\n",
       "    .dataframe tbody tr th {\n",
       "        vertical-align: top;\n",
       "    }\n",
       "\n",
       "    .dataframe thead th {\n",
       "        text-align: right;\n",
       "    }\n",
       "</style>\n",
       "<table border=\"1\" class=\"dataframe\">\n",
       "  <thead>\n",
       "    <tr style=\"text-align: right;\">\n",
       "      <th></th>\n",
       "      <th>0</th>\n",
       "      <th>1</th>\n",
       "      <th>2</th>\n",
       "      <th>3</th>\n",
       "      <th>4</th>\n",
       "      <th>5</th>\n",
       "      <th>6</th>\n",
       "      <th>7</th>\n",
       "      <th>8</th>\n",
       "      <th>9</th>\n",
       "      <th>...</th>\n",
       "      <th>190</th>\n",
       "      <th>191</th>\n",
       "      <th>192</th>\n",
       "      <th>193</th>\n",
       "      <th>194</th>\n",
       "      <th>195</th>\n",
       "      <th>196</th>\n",
       "      <th>197</th>\n",
       "      <th>198</th>\n",
       "      <th>199</th>\n",
       "    </tr>\n",
       "  </thead>\n",
       "  <tbody>\n",
       "    <tr>\n",
       "      <th>0</th>\n",
       "      <td>-225.012332</td>\n",
       "      <td>145.107422</td>\n",
       "      <td>57.703623</td>\n",
       "      <td>-21.105366</td>\n",
       "      <td>-208.961537</td>\n",
       "      <td>359.819554</td>\n",
       "      <td>-124.458775</td>\n",
       "      <td>-240.215492</td>\n",
       "      <td>-188.791530</td>\n",
       "      <td>-37.274631</td>\n",
       "      <td>...</td>\n",
       "      <td>-14.992918</td>\n",
       "      <td>-3.074324</td>\n",
       "      <td>-1.698032</td>\n",
       "      <td>16.610010</td>\n",
       "      <td>4.032453</td>\n",
       "      <td>11.096516</td>\n",
       "      <td>-21.801732</td>\n",
       "      <td>-0.519773</td>\n",
       "      <td>-39.988661</td>\n",
       "      <td>-16.264172</td>\n",
       "    </tr>\n",
       "    <tr>\n",
       "      <th>1</th>\n",
       "      <td>-217.119552</td>\n",
       "      <td>133.495682</td>\n",
       "      <td>54.755079</td>\n",
       "      <td>-16.321641</td>\n",
       "      <td>-192.694063</td>\n",
       "      <td>327.530983</td>\n",
       "      <td>-113.463078</td>\n",
       "      <td>-209.964229</td>\n",
       "      <td>-162.982229</td>\n",
       "      <td>-45.314330</td>\n",
       "      <td>...</td>\n",
       "      <td>1.214083</td>\n",
       "      <td>-4.457884</td>\n",
       "      <td>-0.580059</td>\n",
       "      <td>5.807821</td>\n",
       "      <td>-10.997638</td>\n",
       "      <td>4.889506</td>\n",
       "      <td>-7.887751</td>\n",
       "      <td>-3.476576</td>\n",
       "      <td>15.680911</td>\n",
       "      <td>-4.412378</td>\n",
       "    </tr>\n",
       "    <tr>\n",
       "      <th>2</th>\n",
       "      <td>-203.681392</td>\n",
       "      <td>136.012022</td>\n",
       "      <td>46.070713</td>\n",
       "      <td>14.062182</td>\n",
       "      <td>-207.298503</td>\n",
       "      <td>304.326270</td>\n",
       "      <td>-75.033063</td>\n",
       "      <td>-316.488160</td>\n",
       "      <td>-205.155479</td>\n",
       "      <td>10.381463</td>\n",
       "      <td>...</td>\n",
       "      <td>9.573159</td>\n",
       "      <td>38.022494</td>\n",
       "      <td>-12.155501</td>\n",
       "      <td>3.505540</td>\n",
       "      <td>-3.168037</td>\n",
       "      <td>8.554642</td>\n",
       "      <td>-3.154171</td>\n",
       "      <td>-15.513608</td>\n",
       "      <td>-21.064907</td>\n",
       "      <td>-2.402665</td>\n",
       "    </tr>\n",
       "    <tr>\n",
       "      <th>3</th>\n",
       "      <td>-225.023013</td>\n",
       "      <td>132.381827</td>\n",
       "      <td>60.843658</td>\n",
       "      <td>30.761679</td>\n",
       "      <td>-184.976753</td>\n",
       "      <td>271.069347</td>\n",
       "      <td>-89.638268</td>\n",
       "      <td>-332.687240</td>\n",
       "      <td>-169.382479</td>\n",
       "      <td>31.410514</td>\n",
       "      <td>...</td>\n",
       "      <td>-15.979678</td>\n",
       "      <td>-30.616193</td>\n",
       "      <td>9.865168</td>\n",
       "      <td>1.626636</td>\n",
       "      <td>22.119791</td>\n",
       "      <td>-7.911714</td>\n",
       "      <td>10.713951</td>\n",
       "      <td>18.190017</td>\n",
       "      <td>-2.123691</td>\n",
       "      <td>-4.814913</td>\n",
       "    </tr>\n",
       "    <tr>\n",
       "      <th>4</th>\n",
       "      <td>-215.667788</td>\n",
       "      <td>90.413360</td>\n",
       "      <td>38.210511</td>\n",
       "      <td>-14.249895</td>\n",
       "      <td>-176.934682</td>\n",
       "      <td>272.045184</td>\n",
       "      <td>-85.350311</td>\n",
       "      <td>-302.530789</td>\n",
       "      <td>-180.457055</td>\n",
       "      <td>-1.546475</td>\n",
       "      <td>...</td>\n",
       "      <td>-4.409186</td>\n",
       "      <td>-21.319448</td>\n",
       "      <td>-2.017219</td>\n",
       "      <td>-4.581116</td>\n",
       "      <td>6.562757</td>\n",
       "      <td>-0.446114</td>\n",
       "      <td>7.667967</td>\n",
       "      <td>7.663493</td>\n",
       "      <td>6.874011</td>\n",
       "      <td>6.171959</td>\n",
       "    </tr>\n",
       "  </tbody>\n",
       "</table>\n",
       "<p>5 rows × 200 columns</p>\n",
       "</div>"
      ],
      "text/plain": [
       "          0           1          2          3           4           5    \\\n",
       "0 -225.012332  145.107422  57.703623 -21.105366 -208.961537  359.819554   \n",
       "1 -217.119552  133.495682  54.755079 -16.321641 -192.694063  327.530983   \n",
       "2 -203.681392  136.012022  46.070713  14.062182 -207.298503  304.326270   \n",
       "3 -225.023013  132.381827  60.843658  30.761679 -184.976753  271.069347   \n",
       "4 -215.667788   90.413360  38.210511 -14.249895 -176.934682  272.045184   \n",
       "\n",
       "          6           7           8          9    ...        190        191  \\\n",
       "0 -124.458775 -240.215492 -188.791530 -37.274631  ... -14.992918  -3.074324   \n",
       "1 -113.463078 -209.964229 -162.982229 -45.314330  ...   1.214083  -4.457884   \n",
       "2  -75.033063 -316.488160 -205.155479  10.381463  ...   9.573159  38.022494   \n",
       "3  -89.638268 -332.687240 -169.382479  31.410514  ... -15.979678 -30.616193   \n",
       "4  -85.350311 -302.530789 -180.457055  -1.546475  ...  -4.409186 -21.319448   \n",
       "\n",
       "         192        193        194        195        196        197  \\\n",
       "0  -1.698032  16.610010   4.032453  11.096516 -21.801732  -0.519773   \n",
       "1  -0.580059   5.807821 -10.997638   4.889506  -7.887751  -3.476576   \n",
       "2 -12.155501   3.505540  -3.168037   8.554642  -3.154171 -15.513608   \n",
       "3   9.865168   1.626636  22.119791  -7.911714  10.713951  18.190017   \n",
       "4  -2.017219  -4.581116   6.562757  -0.446114   7.667967   7.663493   \n",
       "\n",
       "         198        199  \n",
       "0 -39.988661 -16.264172  \n",
       "1  15.680911  -4.412378  \n",
       "2 -21.064907  -2.402665  \n",
       "3  -2.123691  -4.814913  \n",
       "4   6.874011   6.171959  \n",
       "\n",
       "[5 rows x 200 columns]"
      ]
     },
     "execution_count": 106,
     "metadata": {},
     "output_type": "execute_result"
    }
   ],
   "source": [
    "from sklearn.decomposition import PCA \n",
    "pca = PCA(n_components=200)\n",
    "\n",
    "\n",
    "principalComponents = pca.fit_transform(train[[x for x in train.columns if 'WAP' in x]])\n",
    "x_train = pd.DataFrame(data = principalComponents)\n",
    "x_train.head()"
   ]
  },
  {
   "cell_type": "code",
   "execution_count": 107,
   "metadata": {},
   "outputs": [],
   "source": [
    "# XGBoost to get best hyperparameter grid\n",
    "# st = time.time()\n",
    "# random_grid = {\n",
    "# \"learning_rate\": sp_uniform(0.2,0.25),\n",
    "# \"max_depth\": sp_randint(3,5),\n",
    "# \"min_child_weight\": sp_randint(3,5),\n",
    "# \"n_estimators\": sp_randint(390,400),\n",
    "# \"gamma\": sp_randint(0,1),\n",
    "# \"objective\": [\"multi:softmax\",\"multi:softprob\"],\n",
    "# }\n",
    "# #Gridsearch with 3-fold validation\n",
    "# class_xg_random = RandomizedSearchCV(estimator=class_xg,param_distributions=random_grid,n_iter=10,verbose=2,\\\n",
    "#                                      random_state=5,n_jobs=-1)\n",
    "# #Fit the random search model\n",
    "# #class_xg_random.fit(train[[x for x in train.columns if 'WAP' in x]], train['target'].ravel())\n",
    "# class_xg_random.fit(x_train, train['target'].ravel())\n",
    "# print(\"\\tTime elapsed: {:.2f} seconds\".format(time.time()-st))"
   ]
  },
  {
   "cell_type": "code",
   "execution_count": 108,
   "metadata": {},
   "outputs": [],
   "source": [
    "#save model \n",
    "#dump(class_xg_random, 'class_xg_random_Classifier.joblib')\n",
    "#load model\n",
    "class_xg_random = load('class_xg_random_Classifier.joblib')"
   ]
  },
  {
   "cell_type": "code",
   "execution_count": 109,
   "metadata": {},
   "outputs": [
    {
     "data": {
      "text/plain": [
       "{'gamma': 0,\n",
       " 'learning_rate': 0.27117147016034093,\n",
       " 'max_depth': 4,\n",
       " 'min_child_weight': 3,\n",
       " 'n_estimators': 390,\n",
       " 'objective': 'multi:softmax'}"
      ]
     },
     "execution_count": 109,
     "metadata": {},
     "output_type": "execute_result"
    }
   ],
   "source": [
    "best_hp_dict = class_xg_random.best_params_\n",
    "best_hp_dict"
   ]
  },
  {
   "cell_type": "code",
   "execution_count": 110,
   "metadata": {},
   "outputs": [
    {
     "name": "stdout",
     "output_type": "stream",
     "text": [
      "Base accuracy: 87.67%\n",
      "Best accuracy from Randomized Search: 91.25%\n",
      "Improvement of 4.09%\n"
     ]
    }
   ],
   "source": [
    "## Compare aganst original model\n",
    "base_accuracy = accuracy_score(test['target'].ravel(), class_preds)\n",
    "random_accuracy = class_xg_random.best_score_\n",
    "print('Base accuracy: {:.2f}%'.format(base_accuracy*100))\n",
    "print('Best accuracy from Randomized Search: {:.2f}%'.format(random_accuracy*100))\n",
    "print('Improvement of {:.2f}%'.format(100 * (random_accuracy - base_accuracy) / base_accuracy))"
   ]
  },
  {
   "cell_type": "markdown",
   "metadata": {},
   "source": [
    "##### Using the hyperparameters that produces the highest accuracy, the model is tuned to produce the following results:"
   ]
  },
  {
   "cell_type": "code",
   "execution_count": 111,
   "metadata": {},
   "outputs": [],
   "source": [
    "#xg_tuned = XGBClassifier(**best_hp_dict,seed=20)\n",
    "#xg_tuned.fit(train[[x for x in train.columns if 'WAP' in x]], train['target'].ravel())\n",
    "#class_preds_tuned = xg_tuned.predict(test[[x for x in train.columns if 'WAP' in x]])"
   ]
  },
  {
   "cell_type": "code",
   "execution_count": 112,
   "metadata": {},
   "outputs": [],
   "source": [
    "#saveList(class_preds_tuned.tolist(), 'class_preds_tuned_XGBClassifier.npy')\n",
    "class_preds_tuned = np.asarray(loadList('class_preds_tuned_XGBClassifier.npy'))"
   ]
  },
  {
   "cell_type": "code",
   "execution_count": 113,
   "metadata": {},
   "outputs": [
    {
     "name": "stdout",
     "output_type": "stream",
     "text": [
      "Confusion Matrix:\n",
      "\n"
     ]
    },
    {
     "data": {
      "image/png": "[encoded data removed]",
      "text/plain": [
       "<Figure size 432x288 with 2 Axes>"
      ]
     },
     "metadata": {
      "needs_background": "light"
     },
     "output_type": "display_data"
    }
   ],
   "source": [
    "class_cm = confusion_matrix(test['target'].ravel(), class_preds_tuned)\n",
    "normed_cm = (class_cm.T / class_cm.astype(np.float).sum(axis=1)).T\n",
    "print(\"Confusion Matrix:\\n\")\n",
    "sns.heatmap(normed_cm, cmap=plt.cm.gist_earth_r, xticklabels=test['target'].unique(), yticklabels=test['target'].unique())\n",
    "plt.ylabel('Actual')\n",
    "plt.xlabel('Predicted')\n",
    "plt.title('Normalized confusion matrix')\n",
    "plt.show(block=False)"
   ]
  },
  {
   "cell_type": "markdown",
   "metadata": {},
   "source": [
    "##### Evaluation Model"
   ]
  },
  {
   "cell_type": "code",
   "execution_count": 114,
   "metadata": {},
   "outputs": [
    {
     "name": "stdout",
     "output_type": "stream",
     "text": [
      "With original predictions, the percentage of correctly classified BUILDINGS = 99.73%\n",
      "With original predictions, the percentage of correctly classified FLOORS = 87.76%\n",
      "\n",
      "With TUNED predictions, the percentage of correctly classified BUILDINGS = 99.91% (0.18% improvement)\n",
      "With TUNED predictions, the percentage of correctly classified FLOORS = 90.10% (2.67% improvement)\n"
     ]
    }
   ],
   "source": [
    "class_results = pd.concat([test[['target']], \n",
    "                          pd.DataFrame(columns=['Predicted'],\n",
    "                                      data=class_preds),\n",
    "                          pd.DataFrame(columns=['Predicted_Tuned'],\n",
    "                                      data=class_preds_tuned)],axis=1)\n",
    "class_results = class_results.apply(lambda x: x.str.split('_'))\n",
    "class_results['pred_building'] = class_results.apply(lambda row: row['target'][0] == row['Predicted'][0], axis=1)\n",
    "class_results['pred_floor']    = class_results.apply(lambda row: row['target'][1] == row['Predicted'][1], axis=1)\n",
    "class_results['pred_tuned_building'] = class_results.apply(lambda row: row['target'][0] == row['Predicted_Tuned'][0], axis=1)\n",
    "class_results['pred_tuned_floor'] = class_results.apply(lambda row: row['target'][1] == row['Predicted_Tuned'][1], axis=1)\n",
    "\n",
    "org_bldg = class_results['pred_building'].sum()/len(class_results)\n",
    "org_floor = class_results['pred_floor'].sum()/len(class_results)\n",
    "tuned_bldg = class_results['pred_tuned_building'].sum()/len(class_results)\n",
    "tuned_floor = class_results['pred_tuned_floor'].sum()/len(class_results)\n",
    "print('With original predictions, the percentage of correctly classified BUILDINGS = {:.2f}%'.format(org_bldg*100))\n",
    "print('With original predictions, the percentage of correctly classified FLOORS = {:.2f}%'.format(org_floor*100))\n",
    "print()\n",
    "print('With TUNED predictions, the percentage of correctly classified BUILDINGS = {:.2f}% ({:.2f}% improvement)'.format((tuned_bldg*100),((tuned_bldg-org_bldg)/org_bldg*100)))\n",
    "print('With TUNED predictions, the percentage of correctly classified FLOORS = {:.2f}% ({:.2f}% improvement)'.format((tuned_floor*100),((tuned_floor-org_floor)/org_floor*100)))\n"
   ]
  },
  {
   "cell_type": "markdown",
   "metadata": {},
   "source": [
    "#### Random Forest Model - classification"
   ]
  },
  {
   "cell_type": "code",
   "execution_count": 98,
   "metadata": {},
   "outputs": [
    {
     "name": "stdout",
     "output_type": "stream",
     "text": [
      "\tTime elapsed: 15.27 seconds\n"
     ]
    }
   ],
   "source": [
    "#Random Forest to get best hyperparameter grid\n",
    "st = time.time()\n",
    "hyperparameters = {'criterion': ['gini'], \n",
    "                  'max_depth': [None], \n",
    "                  'max_features': ['sqrt'],\n",
    "                  'n_estimators': [60]}\n",
    "scoring = {'accuracy': 'accuracy'}    \n",
    "\n",
    "grid = GridSearchCV(estimator = RandomForestClassifier(random_state=20), \n",
    "                        param_grid = hyperparameters,\n",
    "                        scoring = scoring,\n",
    "                        cv = 10,\n",
    "                        refit = 'accuracy', # what best model is based on, and specifies that the best model \n",
    "                                            # will be refitted on the whole training set\n",
    "                        return_train_score = True,\n",
    "                        n_jobs = -1) # parallel processing\n",
    "\n",
    "grid.fit(train[[x for x in train.columns if 'WAP' in x]], train['target'])\n",
    "print(\"\\tTime elapsed: {:.2f} seconds\".format(time.time()-st))"
   ]
  },
  {
   "cell_type": "code",
   "execution_count": 99,
   "metadata": {},
   "outputs": [
    {
     "name": "stdout",
     "output_type": "stream",
     "text": [
      "RandomForestClassifier(bootstrap=True, ccp_alpha=0.0, class_weight=None,\n",
      "                       criterion='gini', max_depth=None, max_features='sqrt',\n",
      "                       max_leaf_nodes=None, max_samples=None,\n",
      "                       min_impurity_decrease=0.0, min_impurity_split=None,\n",
      "                       min_samples_leaf=1, min_samples_split=2,\n",
      "                       min_weight_fraction_leaf=0.0, n_estimators=60,\n",
      "                       n_jobs=None, oob_score=False, random_state=20, verbose=0,\n",
      "                       warm_start=False)\n",
      "0.9792589647411093\n",
      "{'criterion': 'gini', 'max_depth': None, 'max_features': 'sqrt', 'n_estimators': 60}\n"
     ]
    }
   ],
   "source": [
    "print(grid.best_estimator_)\n",
    "print(grid.best_score_)\n",
    "print(grid.best_params_)"
   ]
  },
  {
   "cell_type": "code",
   "execution_count": 100,
   "metadata": {},
   "outputs": [
    {
     "name": "stdout",
     "output_type": "stream",
     "text": [
      "Accuracy: 87.31%\n"
     ]
    }
   ],
   "source": [
    "#save model \n",
    "#dump(grid_result, 'RForest_gridSearch_Classifier.joblib')\n",
    "#load model\n",
    "#grid_result = load('RForest_gridSearch_Classifier.joblib')\n",
    "class_preds = grid.predict(test[[x for x in train.columns if 'WAP' in x]])\n",
    "print(\"Accuracy: {:.2f}%\".format(accuracy_score(test['target'].ravel(), class_preds)*100))"
   ]
  },
  {
   "cell_type": "code",
   "execution_count": 101,
   "metadata": {},
   "outputs": [
    {
     "name": "stdout",
     "output_type": "stream",
     "text": [
      "With original predictions, the percentage of correctly classified BUILDINGS = 99.73%\n",
      "With original predictions, the percentage of correctly classified FLOORS = 87.31%\n"
     ]
    }
   ],
   "source": [
    "class_results = pd.concat([test[['target']], \n",
    "                          pd.DataFrame(columns=['Predicted'],\n",
    "                                      data=class_preds)],axis=1)\n",
    "\n",
    "class_results = class_results.apply(lambda x: x.str.split('_'))\n",
    "class_results['pred_building'] = class_results.apply(lambda row: row['target'][0] == row['Predicted'][0], axis=1)\n",
    "class_results['pred_floor']    = class_results.apply(lambda row: row['target'][1] == row['Predicted'][1], axis=1)\n",
    "\n",
    "org_bldg = class_results['pred_building'].sum()/len(class_results)\n",
    "org_floor = class_results['pred_floor'].sum()/len(class_results)\n",
    "print('With original predictions, the percentage of correctly classified BUILDINGS = {:.2f}%'.format(org_bldg*100))\n",
    "print('With original predictions, the percentage of correctly classified FLOORS = {:.2f}%'.format(org_floor*100))\n"
   ]
  },
  {
   "cell_type": "markdown",
   "metadata": {},
   "source": [
    "### Regression Algorithms"
   ]
  },
  {
   "cell_type": "code",
   "execution_count": 214,
   "metadata": {},
   "outputs": [],
   "source": [
    "# reg_models = []\n",
    "# reg_models.append(('Lasso Regression', Lasso(random_state=20)))\n",
    "# reg_models.append(('Ridge Regression', Ridge(random_state=20)))\n",
    "# reg_models.append(('ElasticNet Regression', ElasticNet(random_state=20)))\n",
    "# reg_models.append(('K-Nearest Neighbours', KNeighborsRegressor()))\n",
    "# reg_models.append(('Random Forest', RandomForestRegressor(random_state=20)))\n",
    "# reg_models.append(('Gradient Boosting', GradientBoostingRegressor(random_state=20)))\n",
    "# reg_models.append(('XGBoost', XGBRegressor(random_state=20)))\n",
    "\n",
    "# # evaluate each model in turn\n",
    "# reg_results = []\n",
    "# reg_names = []\n",
    "# for name, model in reg_models:\n",
    "#     st = time.time()\n",
    "#     kfold = KFold(n_splits=5, random_state=20)\n",
    "#     model = MultiOutputRegressor(model)\n",
    "#     print(model)\n",
    "#     cv_results = cross_val_score(model, train[[x for x in train.columns if 'WAP' in x]], train[['LATITUDE','LONGITUDE']].values, cv=kfold, scoring='neg_mean_squared_error',n_jobs=-1)\n",
    "#     reg_results.append(cv_results)\n",
    "#     reg_names.append(name)\n",
    "#     print(\"{}: {:.4f} ({:.4f})\".format(name, cv_results.mean(), cv_results.std()))\n",
    "#     print(\"\\tTime elapsed: {:.2f} seconds\".format(time.time()-st))"
   ]
  },
  {
   "cell_type": "code",
   "execution_count": 215,
   "metadata": {},
   "outputs": [
    {
     "data": {
      "text/plain": [
       "['Lasso Regression',\n",
       " 'Ridge Regression',\n",
       " 'ElasticNet Regression',\n",
       " 'K-Nearest Neighbours',\n",
       " 'Random Forest',\n",
       " 'Gradient Boosting',\n",
       " 'XGBoost']"
      ]
     },
     "execution_count": 215,
     "metadata": {},
     "output_type": "execute_result"
    }
   ],
   "source": [
    "#saveList(reg_results, 'class_results_regression_allModels.npy')\n",
    "#saveList(reg_names, 'class_names_regression_allModels.npy')\n",
    "reg_results = loadList('class_results_regression_allModels.npy') \n",
    "reg_names = loadList('class_names_regression_allModels.npy')\n",
    "reg_names"
   ]
  },
  {
   "cell_type": "code",
   "execution_count": 219,
   "metadata": {},
   "outputs": [
    {
     "data": {
      "image/png": "[encoded data removed]",
      "text/plain": [
       "<Figure size 1080x360 with 1 Axes>"
      ]
     },
     "metadata": {
      "needs_background": "light"
     },
     "output_type": "display_data"
    }
   ],
   "source": [
    "# Compare Algorithms\n",
    "fig = plt.figure(figsize=(15,5))\n",
    "fig.suptitle('Algorithm Comparison (Regression Algorithms)',fontsize=20)\n",
    "ax = fig.add_subplot(111)\n",
    "plt.boxplot(reg_results)\n",
    "ax.set_xticklabels(reg_names,rotation=40)\n",
    "ax.set_ylim(top=0, bottom=-1200)\n",
    "plt.show()"
   ]
  },
  {
   "cell_type": "markdown",
   "metadata": {},
   "source": [
    "K-Nearest Neighbours produces the lowest negative mean squared error, hence will be the model selected for the classification."
   ]
  },
  {
   "cell_type": "code",
   "execution_count": 118,
   "metadata": {},
   "outputs": [
    {
     "name": "stdout",
     "output_type": "stream",
     "text": [
      "R-squared score: 0.9696\n",
      "Mean Squared Error:\n",
      "\tLatitude: 206.76\n",
      "\tLongitude: 272.66\n",
      "\tTime elapsed: 22.44 seconds\n"
     ]
    }
   ],
   "source": [
    "#KNN Model\n",
    "st=time.time()\n",
    "reg_knn = MultiOutputRegressor(KNeighborsRegressor())\n",
    "reg_knn.fit(train[[x for x in train.columns if 'WAP' in x]], train[['LATITUDE','LONGITUDE']].values)\n",
    "reg_preds = reg_knn.predict(test[[x for x in train.columns if 'WAP' in x]])\n",
    "\n",
    "rsq = r2_score(test[['LATITUDE','LONGITUDE']].values, reg_preds)\n",
    "print('R-squared score: {:.4f}'.format(rsq))\n",
    "print('Mean Squared Error:')\n",
    "ll_mse = dict(zip(['Latitude', 'Longitude'], mean_squared_error(test[['LATITUDE','LONGITUDE']].values, reg_preds, multioutput='raw_values')))\n",
    "for k, v in ll_mse.items():\n",
    "    print('\\t{}: {:.2f}'.format(k, v))\n",
    "print(\"\\tTime elapsed: {:.2f} seconds\".format(time.time()-st))"
   ]
  },
  {
   "cell_type": "code",
   "execution_count": 120,
   "metadata": {},
   "outputs": [
    {
     "name": "stdout",
     "output_type": "stream",
     "text": [
      "R-squared score: 0.9739\n",
      "Mean Squared Error:\n",
      "\tLatitude: 177.23\n",
      "\tLongitude: 236.41\n",
      "\tTime elapsed: 106.86 seconds\n"
     ]
    }
   ],
   "source": [
    "#Random Forest Model\n",
    "st=time.time()\n",
    "reg_RF = MultiOutputRegressor(RandomForestRegressor())\n",
    "reg_RF.fit(train[[x for x in train.columns if 'WAP' in x]], train[['LATITUDE','LONGITUDE']].values)\n",
    "reg_preds_RF = reg_RF.predict(test[[x for x in train.columns if 'WAP' in x]])\n",
    "\n",
    "rsq_RF = r2_score(test[['LATITUDE','LONGITUDE']].values, reg_preds_RF)\n",
    "print('R-squared score: {:.4f}'.format(rsq_RF))\n",
    "print('Mean Squared Error:')\n",
    "ll_mse_RF = dict(zip(['Latitude', 'Longitude'], mean_squared_error(test[['LATITUDE','LONGITUDE']].values, reg_preds_RF, multioutput='raw_values')))\n",
    "for k, v in ll_mse_RF.items():\n",
    "    print('\\t{}: {:.2f}'.format(k, v))\n",
    "print(\"\\tTime elapsed: {:.2f} seconds\".format(time.time()-st))"
   ]
  },
  {
   "cell_type": "markdown",
   "metadata": {},
   "source": [
    "Although the R-squared score is very close to 1, a more intuitive measure of the results must be calculated to represent accuracy."
   ]
  },
  {
   "cell_type": "markdown",
   "metadata": {},
   "source": [
    "The distance between the predicted and actual long-lat can be calculated given these assumptions:\n",
    "\n",
    "-    Longitude and Latitude are actually Northing and Easting coordinates (respectively)\n",
    "-    Given that no UTM Zone is provided, the coordinates are assumed to be on a simple grid\n",
    "-    Distance between 2 points is calculated by applying the Pythagoras theorem\n",
    "-    Unit of distance = meters (m)"
   ]
  },
  {
   "cell_type": "code",
   "execution_count": 122,
   "metadata": {},
   "outputs": [],
   "source": [
    "## Calculating distance        \n",
    "def pythagoras(long1, long2, lat1, lat2):\n",
    "    import math\n",
    "    a = abs(long1-long2)**2\n",
    "    b = abs(lat1-lat2)**2\n",
    "    return math.sqrt(a+b)"
   ]
  },
  {
   "cell_type": "code",
   "execution_count": 123,
   "metadata": {
    "scrolled": true
   },
   "outputs": [
    {
     "name": "stdout",
     "output_type": "stream",
     "text": [
      "On average, the KNN model is accurate up to 13.15m radius.\n"
     ]
    }
   ],
   "source": [
    "#KNN Model\n",
    "test_sub = pd.concat([test[['LATITUDE','LONGITUDE', 'BUILDINGID', 'FLOOR']], \n",
    "                     pd.DataFrame(columns=['pred_lat','pred_long'], data = reg_preds)],axis=1)\n",
    "test_sub['dist_error'] = test_sub.apply(lambda row: pythagoras(row['LONGITUDE'], row['pred_long'], row['LATITUDE'], row['pred_lat']),axis=1)\n",
    "\n",
    "org_ar = test_sub['dist_error'].mean()\n",
    "print('On average, the KNN model is accurate up to {:.2f}m radius.'.format(org_ar))"
   ]
  },
  {
   "cell_type": "code",
   "execution_count": 137,
   "metadata": {},
   "outputs": [
    {
     "name": "stdout",
     "output_type": "stream",
     "text": [
      "On average, the Random Forest model is accurate up to 14.28m radius.\n"
     ]
    }
   ],
   "source": [
    "#Random Forest Model\n",
    "test_sub_RF = pd.concat([test[['LATITUDE','LONGITUDE', 'BUILDINGID', 'FLOOR']], \n",
    "                     pd.DataFrame(columns=['pred_lat','pred_long'], data = reg_preds_RF)],axis=1)\n",
    "test_sub_RF['dist_error'] = test_sub_RF.apply(lambda row: pythagoras(row['LONGITUDE'], row['pred_long'], \\\n",
    "                                                                    row['LATITUDE'],   row['pred_lat']),axis=1)\n",
    "\n",
    "org_ar_RF = test_sub_RF['dist_error'].mean()\n",
    "print('On average, the Random Forest model is accurate up to {:.2f}m radius.'.format(org_ar_RF))"
   ]
  },
  {
   "cell_type": "code",
   "execution_count": 138,
   "metadata": {},
   "outputs": [
    {
     "data": {
      "image/png": "[encoded data removed]",
      "text/plain": [
       "<Figure size 432x288 with 1 Axes>"
      ]
     },
     "metadata": {
      "needs_background": "light"
     },
     "output_type": "display_data"
    }
   ],
   "source": [
    "#KNN Model\n",
    "fig = plt.figure()\n",
    "ax1 = fig.add_subplot(111) \n",
    "plt.suptitle('KNN Model: Geographical Distribution of Actual vs. Predicted Records',fontsize=10)\n",
    "ax1.scatter(test_sub['LATITUDE'], test_sub['LONGITUDE'], s=10, c='b', marker=\"s\", label='Actual')\n",
    "ax1.scatter(test_sub['pred_lat'],test_sub['pred_long'], s=10, c='r', marker=\"o\", label='Predicted')\n",
    "plt.xlabel('LATITUDE')\n",
    "plt.ylabel('LONGITUDE')\n",
    "plt.legend(loc='upper right')\n",
    "plt.show()"
   ]
  },
  {
   "cell_type": "markdown",
   "metadata": {},
   "source": [
    "For KNN Model\n",
    "- The bottom-most building has the most accurately predicted locations\n",
    "- In contrast, the top-most building has quite a fair amount of predicted records showing up in the middle area of the building which is empty / not accessible by foot traffic - unable to predict as accurately due to building architecture"
   ]
  },
  {
   "cell_type": "code",
   "execution_count": 140,
   "metadata": {},
   "outputs": [
    {
     "data": {
      "image/png": "[encoded data removed]",
      "text/plain": [
       "<Figure size 432x288 with 1 Axes>"
      ]
     },
     "metadata": {
      "needs_background": "light"
     },
     "output_type": "display_data"
    }
   ],
   "source": [
    "#Random Forest Model\n",
    "fig = plt.figure()\n",
    "ax1 = fig.add_subplot(111) \n",
    "plt.suptitle('RForest Model: Geographical Distribution of Actual vs. Predicted Records',fontsize=10)\n",
    "ax1.scatter(test_sub_RF['LATITUDE'], test_sub_RF['LONGITUDE'], s=10, c='b', marker=\"s\", label='Actual')\n",
    "ax1.scatter(test_sub_RF['pred_lat'],test_sub_RF['pred_long'], s=10, c='r', marker=\"o\", label='Predicted')\n",
    "plt.xlabel('LATITUDE')\n",
    "plt.ylabel('LONGITUDE')\n",
    "plt.legend(loc='upper right')\n",
    "plt.show()"
   ]
  },
  {
   "cell_type": "code",
   "execution_count": 141,
   "metadata": {},
   "outputs": [
    {
     "data": {
      "image/png": "[encoded data removed]",
      "text/plain": [
       "<Figure size 432x288 with 1 Axes>"
      ]
     },
     "metadata": {
      "needs_background": "light"
     },
     "output_type": "display_data"
    },
    {
     "name": "stdout",
     "output_type": "stream",
     "text": [
      "           dist_error                      \n",
      "BUILDINGID          0          1          2\n",
      "FLOOR                                      \n",
      "0            9.669896  14.357701  15.234403\n",
      "1            9.947225  11.488159  12.241960\n",
      "2            9.812975  16.237228  21.386052\n",
      "3           10.000940  11.981848  23.277227\n",
      "4            0.000000   0.000000  37.442252\n"
     ]
    }
   ],
   "source": [
    "#KNN Model\n",
    "dist_error = test_sub.groupby(['BUILDINGID', 'FLOOR']).dist_error.mean().reset_index().\\\n",
    "                    pivot(index='FLOOR',columns='BUILDINGID').fillna(0)\n",
    "\n",
    "barWidth = 0.2\n",
    "building_num = train_set[\"BUILDINGID\"].sort_values(ascending=True).unique()\n",
    "f1 = building_num\n",
    "f2 = [x + barWidth for x in f1]\n",
    "f3 = [x + barWidth for x in f2]\n",
    "f4 = [x + barWidth for x in f3]\n",
    "f5 = [x + barWidth for x in f4]\n",
    "plt.bar(f1, dist_error.loc[0,:], width = barWidth, alpha=0.5, label='f0')\n",
    "plt.bar(f2, dist_error.loc[1,:], width = barWidth, alpha=0.5, label='f1')\n",
    "plt.bar(f3, dist_error.loc[2,:], width = barWidth, alpha=0.5, label='f2')\n",
    "plt.bar(f4, dist_error.loc[3,:], width = barWidth, alpha=0.5, label='f3')\n",
    "plt.bar(f5, dist_error.loc[4,:], width = barWidth, alpha=0.5, label='f4')\n",
    "plt.legend()\n",
    "plt.xlabel(\"Building\")\n",
    "plt.ylabel(\"\")\n",
    "plt.title('KNN Model : Accuracy Radius')\n",
    "r = range(len(building_num))\n",
    "plt.xticks([r + barWidth / 2 for r in range(len(num_floors_buildings_records.loc[0,:]))], ['0', '1', '2'])\n",
    "\n",
    "plt.show()\n",
    "print(dist_error)"
   ]
  },
  {
   "cell_type": "markdown",
   "metadata": {},
   "source": [
    "Based on the breakdown of accuracy by building & floor, the top-most building in the scatter plot is most likely Building 2, with the highest concentration of inaccuracy from Floor 4 records."
   ]
  },
  {
   "cell_type": "code",
   "execution_count": 149,
   "metadata": {},
   "outputs": [
    {
     "data": {
      "image/png": "[encoded data removed]",
      "text/plain": [
       "<Figure size 432x288 with 1 Axes>"
      ]
     },
     "metadata": {
      "needs_background": "light"
     },
     "output_type": "display_data"
    },
    {
     "name": "stdout",
     "output_type": "stream",
     "text": [
      "           dist_error                      \n",
      "BUILDINGID          0          1          2\n",
      "FLOOR                                      \n",
      "0           13.894678  20.040718  15.615869\n",
      "1           10.694859  15.292206  15.379802\n",
      "2           10.615049  15.883853  22.551263\n",
      "3            9.917153  14.287241  19.081135\n",
      "4            0.000000   0.000000  27.182862\n"
     ]
    }
   ],
   "source": [
    "#Random Forest Model\n",
    "dist_error_RF = test_sub_RF.groupby(['BUILDINGID', 'FLOOR']).dist_error.mean().reset_index().\\\n",
    "                    pivot(index='FLOOR',columns='BUILDINGID').fillna(0)\n",
    "\n",
    "barWidth = 0.2\n",
    "building_num = train_set[\"BUILDINGID\"].sort_values(ascending=True).unique()\n",
    "f1 = building_num\n",
    "f2 = [x + barWidth for x in f1]\n",
    "f3 = [x + barWidth for x in f2]\n",
    "f4 = [x + barWidth for x in f3]\n",
    "f5 = [x + barWidth for x in f4]\n",
    "plt.bar(f1, dist_error_RF.loc[0,:], width = barWidth, alpha=0.5, label='f0')\n",
    "plt.bar(f2, dist_error_RF.loc[1,:], width = barWidth, alpha=0.5, label='f1')\n",
    "plt.bar(f3, dist_error_RF.loc[2,:], width = barWidth, alpha=0.5, label='f2')\n",
    "plt.bar(f4, dist_error_RF.loc[3,:], width = barWidth, alpha=0.5, label='f3')\n",
    "plt.bar(f5, dist_error_RF.loc[4,:], width = barWidth, alpha=0.5, label='f4')\n",
    "plt.legend()\n",
    "plt.xlabel(\"Building\")\n",
    "plt.ylabel(\"\")\n",
    "plt.title('Random Forest Accuracy Radius')\n",
    "r = range(len(building_num))\n",
    "plt.xticks([r + barWidth / 2 for r in range(len(num_floors_buildings_records.loc[0,:]))], ['0', '1', '2'])\n",
    "\n",
    "plt.show()\n",
    "print(dist_error_RF)"
   ]
  },
  {
   "cell_type": "code",
   "execution_count": 277,
   "metadata": {},
   "outputs": [],
   "source": [
    "#se_corr=np.corrcoef([item for sublist in signal_fb.values.tolist() for item in sublist], [item for sublist in dist_error.values.tolist() for item in sublist])[0,1]\n",
    "#print('Correlation coefficient between Accuracy Radius and Average Max Signal Strength: {:.4f}'.format(se_corr))"
   ]
  },
  {
   "cell_type": "markdown",
   "metadata": {},
   "source": [
    "### Model improvements\n",
    "Given the current accuracy radius of 13.15 metres, the current K-Nearest Neighbours model can be further improved by changing the K value."
   ]
  },
  {
   "cell_type": "code",
   "execution_count": 278,
   "metadata": {},
   "outputs": [
    {
     "data": {
      "image/png": "[encoded data removed]",
      "text/plain": [
       "<Figure size 432x288 with 1 Axes>"
      ]
     },
     "metadata": {
      "needs_background": "light"
     },
     "output_type": "display_data"
    },
    {
     "data": {
      "text/plain": [
       "464.0675928592682"
      ]
     },
     "execution_count": 278,
     "metadata": {},
     "output_type": "execute_result"
    }
   ],
   "source": [
    "k_results = []\n",
    "st=time.time()\n",
    "for k in np.arange(2, 20):\n",
    "    reg_knn_test = MultiOutputRegressor(KNeighborsRegressor(n_neighbors=k))\n",
    "    reg_knn_test.fit(train[[x for x in train.columns if 'WAP' in x]], train[['LATITUDE','LONGITUDE']].values)\n",
    "    reg_preds_test = reg_knn_test.predict(test[[x for x in train.columns if 'WAP' in x]])\n",
    "    temp_df = pd.concat([test_sub[['LATITUDE','LONGITUDE']], \n",
    "                          pd.DataFrame(columns=['pred_lat_tuned','pred_long_tuned'], data = reg_preds_test)],axis=1)\n",
    "    temp_df['dist_error_tuned'] = temp_df.apply(lambda row: pythagoras(row['LONGITUDE'], row['pred_long_tuned'], row['LATITUDE'], row['pred_lat_tuned']),axis=1)\n",
    "    k_results.append(temp_df['dist_error_tuned'].mean())\n",
    "\n",
    "plt.plot(k_results)\n",
    "plt.title('Accuracy Radius over Number of K', fontsize=20)\n",
    "plt.xlabel('Number of K')\n",
    "plt.xticks(range(1,len(k_results)),label=np.arange(2, 20))\n",
    "plt.show()\n",
    "time.time()-st"
   ]
  },
  {
   "cell_type": "markdown",
   "metadata": {},
   "source": [
    "Given that there are 3 buildings, k = 3 is selected to tune the model and increase the accuracy."
   ]
  },
  {
   "cell_type": "code",
   "execution_count": 279,
   "metadata": {
    "scrolled": true
   },
   "outputs": [
    {
     "name": "stdout",
     "output_type": "stream",
     "text": [
      "R-squared score: 0.9722\n",
      "Uplift in R-squared score: 0.27%\n",
      "\n",
      "Mean Squared Error:\n",
      "\tLatitude: 194.12\n",
      "\tLongitude: 234.70\n",
      "Uplift in Mean Squared Error:\n",
      "\tLatitude: 6.11%\n",
      "\tLongitude: 13.92%\n"
     ]
    }
   ],
   "source": [
    "reg_knn_tuned = MultiOutputRegressor(KNeighborsRegressor(n_neighbors=3))\n",
    "reg_knn_tuned.fit(train[[x for x in train.columns if 'WAP' in x]], train[['LATITUDE','LONGITUDE']].values)\n",
    "reg_preds_tuned = reg_knn_tuned.predict(test[[x for x in train.columns if 'WAP' in x]])\n",
    "\n",
    "new_rsq = r2_score(test[['LATITUDE','LONGITUDE']].values, reg_preds_tuned)\n",
    "print('R-squared score: {:.4f}'.format(new_rsq))\n",
    "print('Uplift in R-squared score: {:.2f}%'.format((new_rsq-rsq)/rsq*100))\n",
    "print()\n",
    "print('Mean Squared Error:')\n",
    "ll_mse_tuned = dict(zip(['Latitude', 'Longitude'], mean_squared_error(test[['LATITUDE','LONGITUDE']].values, reg_preds_tuned, multioutput='raw_values')))\n",
    "for k, v in ll_mse_tuned.items():\n",
    "    print('\\t{}: {:.2f}'.format(k, v))\n",
    "print('Uplift in Mean Squared Error:')\n",
    "for k, v in ll_mse_tuned.items():\n",
    "    uplift = (ll_mse[k]-v)/ll_mse[k]\n",
    "    print('\\t{}: {:.2f}%'.format(k, (uplift*100)))"
   ]
  },
  {
   "cell_type": "code",
   "execution_count": 280,
   "metadata": {},
   "outputs": [],
   "source": [
    "test_sub = pd.concat([test_sub[['LATITUDE','LONGITUDE', 'BUILDINGID', 'FLOOR', 'pred_lat', 'pred_long']], \n",
    "                     pd.DataFrame(columns=['pred_lat_tuned','pred_long_tuned'], data = reg_preds_tuned)],axis=1)\n",
    "test_sub['dist_error_tuned'] = test_sub.apply(lambda row: pythagoras(row['LONGITUDE'], row['pred_long_tuned'], row['LATITUDE'], row['pred_lat_tuned']),axis=1)"
   ]
  },
  {
   "cell_type": "code",
   "execution_count": 281,
   "metadata": {},
   "outputs": [
    {
     "name": "stdout",
     "output_type": "stream",
     "text": [
      "On average, the current model is accurate up to 12.94m radius (1.59% improvement).\n"
     ]
    }
   ],
   "source": [
    "tuned_ar = test_sub['dist_error_tuned'].mean()\n",
    "print('On average, the current model is accurate up to {:.2f}m radius ({:.2f}% improvement).'.format(tuned_ar, ((org_ar-tuned_ar)/org_ar*100)))"
   ]
  },
  {
   "cell_type": "code",
   "execution_count": 284,
   "metadata": {},
   "outputs": [
    {
     "data": {
      "image/png": "[encoded data removed]",
      "text/plain": [
       "<Figure size 432x288 with 1 Axes>"
      ]
     },
     "metadata": {
      "needs_background": "light"
     },
     "output_type": "display_data"
    }
   ],
   "source": [
    "fig = plt.figure()\n",
    "ax1 = fig.add_subplot(111)\n",
    "plt.suptitle('Geographical Distribution of Actual vs. Predicted vs. Tuned Predicted',fontsize=10)\n",
    "ax1.scatter(test_sub['LATITUDE'], test_sub['LONGITUDE'], s=10, c='b', marker=\"s\", label='Actual')\n",
    "ax1.scatter(test_sub['pred_lat'],test_sub['pred_long'], s=10, c='r', marker=\"o\", label='Predicted')\n",
    "ax1.scatter(test_sub['pred_lat_tuned'],test_sub['pred_long_tuned'], s=10, c='g', marker=\"^\", label='Tuned Predicted')\n",
    "plt.xlabel('LATITUDE')\n",
    "plt.ylabel('LONGITUDE')\n",
    "plt.legend(loc='upper right')\n",
    "plt.show()"
   ]
  },
  {
   "cell_type": "code",
   "execution_count": null,
   "metadata": {},
   "outputs": [],
   "source": []
  }
 ],
 "metadata": {
  "kernelspec": {
   "display_name": "Python 3",
   "language": "python",
   "name": "python3"
  },
  "language_info": {
   "codemirror_mode": {
    "name": "ipython",
    "version": 3
   },
   "file_extension": ".py",
   "mimetype": "text/x-python",
   "name": "python",
   "nbconvert_exporter": "python",
   "pygments_lexer": "ipython3",
   "version": "3.8.5"
  }
 },
 "nbformat": 4,
 "nbformat_minor": 4
}
